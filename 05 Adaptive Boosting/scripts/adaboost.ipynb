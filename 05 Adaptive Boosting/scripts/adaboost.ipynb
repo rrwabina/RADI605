{
 "cells": [
  {
   "attachments": {},
   "cell_type": "markdown",
   "metadata": {},
   "source": [
    "### Boosting\n",
    "\n",
    "**Boosting** refers to ensemble method that can combine several weak learners into a strong learners.  The general idea of most boosting methods is to train predictors **sequentially**, each trying to correct its predecessor.  The most popular ones are **AdaBoost** (short for Adaptive Boosting) and **Gradient Boosting**."
   ]
  },
  {
   "attachments": {},
   "cell_type": "markdown",
   "metadata": {},
   "source": [
    "#### AdaBoost\n",
    "\n",
    "By correcting what has been underclassified (or underfitted), we can create new predictor that focus on more hard cases.  Last, when we combine all sequential predictors, we get a predictor that takes care of all cases.\n",
    "\n",
    "For example, in the picture below, in the Weak Learner #1, a classification was made.  However, one red dot was misclassified.  This red dot gets increased weight and pass to the second learner.  The second learner now can correctly classify the bigger red dots, and then this bigger red dots become smaller (i.e., decrease weights).  At the same time, anything that is again misclassified here has increased weights and these weights are passed on to the next predictor.   And son on.  \n",
    "\n",
    "Once all predictors are trained, the ensemble makes predictions very much like bagging, except that predictors have different weights ($a_j$) depending on their overall accuracy on the weighted training set.\n",
    "\n",
    "Initially, all data points ($w_i$) have same weight:\n",
    "\n",
    "$$ w_i = \\frac{1}{N} $$\n",
    "\n",
    "where N is the total number of data points, and the weighted samples always sum to 1, thus value of w of each point will always lie between 0 and 1.  \n",
    "\n",
    "We also can create weight for predictors (j) using\n",
    "\n",
    "$$ a_j = \\eta\\log\\frac{1 - r_j}{r_j} $$\n",
    "\n",
    "where $\\eta$ is simply learning rate (defaults to 1), and $r_j$ is simply total weighted misclassifications divided by sum of weights.  The formula is as follows:\n",
    "\n",
    "$$ r_j = \\frac{\\sum_{i=1}^m w_i (\\hat{y_j^i} \\neq y_i)}{\\sum_{i=1}^m w^i} $$\n",
    "\n",
    "\n",
    "This $a_j$ is useful both for using in final predictions and updating weights of each data samples.  To update each data sample (i) for the next predictor, we do:\n",
    "\n",
    "$$ \n",
    "  w_i =\n",
    "  \\begin{cases}\n",
    "    w_i, & \\text{if } \\hat{y_j^i} = y_i \\\\\n",
    "    w_{i-1}*\\exp(\\alpha_j) & \\text{otherwise } \\\\\n",
    "  \\end{cases}\n",
    "$$\n",
    "\n",
    "In other words, new sample weight is simply function of old sample weight multiplied with Euler's number, raised to alpha we computed in (2).\n",
    "\n",
    "Last, once all predictions are trained, AdaBoost make predictions using\n",
    "based on the majority of weighted votes.\n",
    "\n"
   ]
  },
  {
   "cell_type": "code",
   "execution_count": 1,
   "metadata": {},
   "outputs": [],
   "source": [
    "import numpy as np\n",
    "import matplotlib.pyplot as plt\n",
    "from sklearn.ensemble import AdaBoostClassifier\n",
    "import pandas as pd\n",
    "\n",
    "X = pd.read_csv('../data/example02-data.csv', sep=',',header=None)\n",
    "y = pd.read_csv('../data/example02-class.csv', header=None)\n",
    "X = np.asarray(X)\n",
    "y = np.asarray(y)"
   ]
  },
  {
   "cell_type": "code",
   "execution_count": 5,
   "metadata": {},
   "outputs": [
    {
     "name": "stderr",
     "output_type": "stream",
     "text": [
      "c:\\Users\\Renan\\AppData\\Local\\Programs\\Python\\Python39\\lib\\site-packages\\sklearn\\utils\\validation.py:1111: DataConversionWarning: A column-vector y was passed when a 1d array was expected. Please change the shape of y to (n_samples, ), for example using ravel().\n",
      "  y = column_or_1d(y, warn=True)\n"
     ]
    },
    {
     "data": {
      "text/plain": [
       "(-4.7187, 4.161299999999811, -4.7565, 4.1834999999998095)"
      ]
     },
     "execution_count": 5,
     "metadata": {},
     "output_type": "execute_result"
    },
    {
     "data": {
      "image/png": "[encoded data removed]",
      "text/plain": [
       "<Figure size 360x360 with 1 Axes>"
      ]
     },
     "metadata": {
      "needs_background": "light"
     },
     "output_type": "display_data"
    }
   ],
   "source": [
    "bdt = AdaBoostClassifier(n_estimators = 50, random_state = 0, learning_rate = 1.0)\n",
    "bdt.fit(X, y)\n",
    "\n",
    "\n",
    "plot_step = 0.02\n",
    "class_names = ['Positive', 'Negative']\n",
    "plt.figure(figsize=(5, 5))\n",
    "x1_min, x1_max = X[:, 0].min() -1, X[:, 0].max() + 1\n",
    "x2_min, x2_max = X[:, 1].min() -1, X[:, 1].max() + 1\n",
    "xx1, xx2 = np.meshgrid(np.arange(x1_min, x1_max, plot_step),\n",
    "np.arange(x2_min, x2_max, plot_step))\n",
    "Z = bdt.predict(np.c_[xx1.ravel(), xx2.ravel()])\n",
    "Z = Z.reshape(xx1.shape)\n",
    "cs = plt.contourf(xx1, xx2, Z, cmap=plt.cm.Paired)\n",
    "plt.axis(\"tight\")"
   ]
  },
  {
   "cell_type": "code",
   "execution_count": 6,
   "metadata": {},
   "outputs": [
    {
     "data": {
      "image/png": "[encoded data removed]",
      "text/plain": [
       "<Figure size 432x288 with 1 Axes>"
      ]
     },
     "metadata": {
      "needs_background": "light"
     },
     "output_type": "display_data"
    }
   ],
   "source": [
    "for i, n in zip(range(1), class_names):\n",
    "    idx = np.where(y == 1)\n",
    "    plt.scatter(X[idx, 0], X[idx, 1], c = 'g', cmap=plt.cm.Paired, s = 40, edgecolor='k', label=\"Class %s\" % class_names[i]) \n",
    "    i = i+1\n",
    "    idx = np.where(y == -1)\n",
    "    plt.scatter(X[idx, 0], X[idx, 1], c = 'r', cmap=plt.cm.Paired, s = 40, edgecolor='k', label=\"Class %s\" % class_names[i]) "
   ]
  },
  {
   "cell_type": "code",
   "execution_count": 9,
   "metadata": {},
   "outputs": [
    {
     "name": "stdout",
     "output_type": "stream",
     "text": [
      "Confusion Matrix : \n",
      " [[25  0]\n",
      " [ 0 25]]\n",
      "              precision    recall  f1-score   support\n",
      "\n",
      "    Positive       1.00      1.00      1.00        25\n",
      "    Negative       1.00      1.00      1.00        25\n",
      "\n",
      "    accuracy                           1.00        50\n",
      "   macro avg       1.00      1.00      1.00        50\n",
      "weighted avg       1.00      1.00      1.00        50\n",
      "\n"
     ]
    }
   ],
   "source": [
    "from sklearn.datasets import make_blobs\n",
    "\n",
    "X_test, y_test = make_blobs(n_samples=50, centers=2, random_state=7, cluster_std=1.5)\n",
    "y_test[y_test == 0] = -1\n",
    "\n",
    "from sklearn.metrics import confusion_matrix\n",
    "y_pred = bdt.predict(X_test) \n",
    "confusion = confusion_matrix(y_test,y_pred)\n",
    "print('Confusion Matrix : \\n', confusion)\n",
    "\n",
    "from sklearn.metrics import classification_report\n",
    "print(classification_report(y_test, y_pred, target_names=class_names))\n"
   ]
  }
 ],
 "metadata": {
  "kernelspec": {
   "display_name": "Python 3",
   "language": "python",
   "name": "python3"
  },
  "language_info": {
   "codemirror_mode": {
    "name": "ipython",
    "version": 3
   },
   "file_extension": ".py",
   "mimetype": "text/x-python",
   "name": "python",
   "nbconvert_exporter": "python",
   "pygments_lexer": "ipython3",
   "version": "3.9.2"
  },
  "orig_nbformat": 4,
  "vscode": {
   "interpreter": {
    "hash": "c6a2dc670f3436433c0efae6fb324965c1072d8aef0b90287abce79ee9328779"
   }
  }
 },
 "nbformat": 4,
 "nbformat_minor": 2
}
