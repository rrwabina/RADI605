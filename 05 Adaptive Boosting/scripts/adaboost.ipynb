{
 "cells": [
  {
   "attachments": {},
   "cell_type": "markdown",
   "metadata": {},
   "source": [
    "### Boosting\n",
    "\n",
    "**Boosting** refers to ensemble method that can combine several weak learners into a strong learners.  The general idea of most boosting methods is to train predictors **sequentially**, each trying to correct its predecessor.  The most popular ones are **AdaBoost** (short for Adaptive Boosting) and **Gradient Boosting**."
   ]
  },
  {
   "attachments": {},
   "cell_type": "markdown",
   "metadata": {},
   "source": [
    "#### AdaBoost\n",
    "\n",
    "By correcting what has been underclassified (or underfitted), we can create new predictor that focus on more hard cases.  Last, when we combine all sequential predictors, we get a predictor that takes care of all cases.\n",
    "\n",
    "For example, in the picture below, in the Weak Learner #1, a classification was made.  However, one red dot was misclassified.  This red dot gets increased weight and pass to the second learner.  The second learner now can correctly classify the bigger red dots, and then this bigger red dots become smaller (i.e., decrease weights).  At the same time, anything that is again misclassified here has increased weights and these weights are passed on to the next predictor.   And son on.  \n",
    "\n",
    "Once all predictors are trained, the ensemble makes predictions very much like bagging, except that predictors have different weights ($a_j$) depending on their overall accuracy on the weighted training set.\n",
    "\n",
    "Initially, all data points ($w_i$) have same weight:\n",
    "\n",
    "$$ w_i = \\frac{1}{N} $$\n",
    "\n",
    "where N is the total number of data points, and the weighted samples always sum to 1, thus value of w of each point will always lie between 0 and 1.  \n",
    "\n",
    "We also can create weight for predictors (j) using\n",
    "\n",
    "$$ a_j = \\eta\\log\\frac{1 - r_j}{r_j} $$\n",
    "\n",
    "where $\\eta$ is simply learning rate (defaults to 1), and $r_j$ is simply total weighted misclassifications divided by sum of weights.  The formula is as follows:\n",
    "\n",
    "$$ r_j = \\frac{\\sum_{i=1}^m w_i (\\hat{y_j^i} \\neq y_i)}{\\sum_{i=1}^m w^i} $$\n",
    "\n",
    "\n",
    "This $a_j$ is useful both for using in final predictions and updating weights of each data samples.  To update each data sample (i) for the next predictor, we do:\n",
    "\n",
    "$$ \n",
    "  w_i =\n",
    "  \\begin{cases}\n",
    "    w_i, & \\text{if } \\hat{y_j^i} = y_i \\\\\n",
    "    w_{i-1}*\\exp(\\alpha_j) & \\text{otherwise } \\\\\n",
    "  \\end{cases}\n",
    "$$\n",
    "\n",
    "In other words, new sample weight is simply function of old sample weight multiplied with Euler's number, raised to alpha we computed in (2).\n",
    "\n",
    "Last, once all predictions are trained, AdaBoost make predictions using\n",
    "based on the majority of weighted votes.\n",
    "\n"
   ]
  },
  {
   "cell_type": "code",
   "execution_count": 117,
   "metadata": {},
   "outputs": [],
   "source": [
    "import numpy as np\n",
    "import matplotlib.pyplot as plt\n",
    "from sklearn.ensemble import AdaBoostClassifier\n",
    "import pandas as pd\n",
    "from sklearn.model_selection import train_test_split\n",
    "from sklearn.datasets import make_moons\n",
    "from sklearn.svm import SVC\n",
    "from sklearn.ensemble import AdaBoostClassifier\n",
    "from sklearn.metrics import accuracy_score\n",
    "from sklearn.tree import DecisionTreeClassifier\n",
    "from sklearn.metrics import classification_report\n",
    "import warnings \n",
    "warnings.filterwarnings('ignore')\n",
    "\n",
    "\n",
    "X = pd.read_csv('../data/example02-data.csv', sep=',',header=None)\n",
    "y = pd.read_csv('../data/example02-class.csv', header=None)\n",
    "X = np.asarray(X)\n",
    "y = np.asarray(y)"
   ]
  },
  {
   "cell_type": "code",
   "execution_count": 186,
   "metadata": {},
   "outputs": [
    {
     "data": {
      "image/png": "[encoded data removed]",
      "text/plain": [
       "<Figure size 360x360 with 1 Axes>"
      ]
     },
     "metadata": {
      "needs_background": "light"
     },
     "output_type": "display_data"
    }
   ],
   "source": [
    "# bdt = AdaBoostClassifier(n_estimators = 16, random_state = 0, learning_rate = 1.0)\n",
    "# bdt = AdaBoostClassifier(DecisionTreeClassifier(max_depth = 5), algorithm = \"SAMME\", n_estimators = 1, random_state = 0, learning_rate = 1.0)\n",
    "clf = SVC(kernel = 'linear')\n",
    "bdt = AdaBoostClassifier(clf, algorithm=\"SAMME\", n_estimators = 1, random_state=0, learning_rate=1.0)\n",
    "\n",
    "\n",
    "bdt.fit(X, y)\n",
    "\n",
    "\n",
    "plot_step = 0.02\n",
    "class_names = ['Positive', 'Negative']\n",
    "plt.figure(figsize=(5, 5))\n",
    "\n",
    "x1_min, x1_max = X[:, 0].min() -1, X[:, 0].max() + 1\n",
    "x2_min, x2_max = X[:, 1].min() -1, X[:, 1].max() + 1\n",
    "xx1, xx2 = np.meshgrid(np.arange(x1_min, x1_max, plot_step), np.arange(x2_min, x2_max, plot_step))\n",
    "\n",
    "Z = bdt.predict(np.c_[xx1.ravel(), xx2.ravel()])\n",
    "Z = Z.reshape(xx1.shape)\n",
    "cs = plt.contourf(xx1, xx2, Z, cmap=plt.cm.Paired)\n",
    "plt.axis(\"tight\")\n",
    "\n",
    "for i, n in zip(range(1), class_names):\n",
    "    idx = np.where(y == 1)\n",
    "    plt.scatter(X[idx, 0], X[idx, 1], c = 'g', cmap=plt.cm.Paired, s = 40, edgecolor='k', label=\"Class %s\" % class_names[i]) \n",
    "    i = i+1\n",
    "    idx = np.where(y == -1)\n",
    "    plt.scatter(X[idx, 0], X[idx, 1], c = 'r', cmap=plt.cm.Paired, s = 40, edgecolor='k', label=\"Class %s\" % class_names[i]) "
   ]
  },
  {
   "cell_type": "code",
   "execution_count": 187,
   "metadata": {},
   "outputs": [
    {
     "name": "stdout",
     "output_type": "stream",
     "text": [
      "Ada score:  0.9\n",
      "Confusion Matrix : \n",
      " [[20  5]\n",
      " [ 0 25]]\n",
      "              precision    recall  f1-score   support\n",
      "\n",
      "    Positive       1.00      0.80      0.89        25\n",
      "    Negative       0.83      1.00      0.91        25\n",
      "\n",
      "    accuracy                           0.90        50\n",
      "   macro avg       0.92      0.90      0.90        50\n",
      "weighted avg       0.92      0.90      0.90        50\n",
      "\n"
     ]
    }
   ],
   "source": [
    "from sklearn.datasets import make_blobs\n",
    "\n",
    "X_test, y_test = make_blobs(n_samples = 50, centers=2, random_state=7, cluster_std=1.5)\n",
    "y_test[y_test == 0] = -1\n",
    "\n",
    "from sklearn.metrics import confusion_matrix\n",
    "y_pred = bdt.predict(X_test) \n",
    "confusion = confusion_matrix(y_test,y_pred)\n",
    "print(\"Ada score: \", accuracy_score(y_test, y_pred))\n",
    "print('Confusion Matrix : \\n', confusion)\n",
    "\n",
    "from sklearn.metrics import classification_report\n",
    "print(classification_report(y_test, y_pred, target_names=class_names))"
   ]
  },
  {
   "cell_type": "code",
   "execution_count": 109,
   "metadata": {},
   "outputs": [
    {
     "name": "stdout",
     "output_type": "stream",
     "text": [
      "Ada score:  0.5\n",
      "              precision    recall  f1-score   support\n",
      "\n",
      "    Positive       0.50      1.00      0.67         1\n",
      "    Negative       0.00      0.00      0.00         1\n",
      "\n",
      "    accuracy                           0.50         2\n",
      "   macro avg       0.25      0.50      0.33         2\n",
      "weighted avg       0.25      0.50      0.33         2\n",
      "\n"
     ]
    }
   ],
   "source": [
    "X_train, X_test, y_train, y_test = train_test_split(X, y, test_size = 0.2, random_state = 42)\n",
    "\n",
    "ada_clf = AdaBoostClassifier(SVC(probability = True, kernel = 'linear'), n_estimators = 250, learning_rate = 0.0001, random_state=42)\n",
    "ada_clf.fit(X_train, y_train)\n",
    "y_pred = ada_clf.predict(X_test)\n",
    "print(\"Ada score: \", accuracy_score(y_test, y_pred))\n",
    "\n",
    "from sklearn.metrics import classification_report\n",
    "print(classification_report(y_test, y_pred, target_names = class_names))"
   ]
  },
  {
   "cell_type": "code",
   "execution_count": 18,
   "metadata": {},
   "outputs": [],
   "source": [
    "from sklearn.datasets import make_classification\n",
    "\n",
    "X, y = make_classification(n_samples = 500, random_state=1)\n",
    "y = np.where(y==0,-1,1)  #change our y to be -1 if it is 0, otherwise 1\n",
    "\n",
    "X_train, X_test, y_train, y_test = train_test_split(X, y, test_size=0.3, random_state=42)"
   ]
  },
  {
   "cell_type": "code",
   "execution_count": 19,
   "metadata": {},
   "outputs": [
    {
     "name": "stdout",
     "output_type": "stream",
     "text": [
      "              precision    recall  f1-score   support\n",
      "\n",
      "          -1       0.96      0.97      0.97        79\n",
      "           1       0.97      0.96      0.96        71\n",
      "\n",
      "    accuracy                           0.97       150\n",
      "   macro avg       0.97      0.97      0.97       150\n",
      "weighted avg       0.97      0.97      0.97       150\n",
      "\n"
     ]
    }
   ],
   "source": [
    "m = X_train.shape[0]\n",
    "S = 20\n",
    "stump_params = {'max_depth': 1, 'max_leaf_nodes': 2}\n",
    "models = [DecisionTreeClassifier(**stump_params) for _ in range(S)]\n",
    "\n",
    "W = np.full(m, 1/m)\n",
    "a_js = np.zeros(S)\n",
    "\n",
    "for j, model in enumerate(models):\n",
    "    model.fit(X_train, y_train, sample_weight = W)\n",
    "    yhat = model.predict(X_train) \n",
    "    err = W[(yhat != y_train)].sum()\n",
    "    a_j = np.log ((1 - err) / err) / 2\n",
    "    a_js[j] = a_j\n",
    "    \n",
    "\n",
    "    W = (W * np.exp(-a_j * y_train * yhat)) \n",
    "    W = W / sum (W)\n",
    "    \n",
    "        \n",
    "Hx = 0\n",
    "for i, model in enumerate(models):\n",
    "    yhat = model.predict(X_test)\n",
    "    Hx += a_js[i] * yhat\n",
    "    \n",
    "yhat = np.sign(Hx)\n",
    "\n",
    "print(classification_report(y_test, yhat))"
   ]
  },
  {
   "cell_type": "code",
   "execution_count": 20,
   "metadata": {},
   "outputs": [
    {
     "name": "stdout",
     "output_type": "stream",
     "text": [
      "Ada score:  0.9666666666666667\n"
     ]
    }
   ],
   "source": [
    "ada_clf = AdaBoostClassifier(DecisionTreeClassifier(max_depth=1), n_estimators = 200, learning_rate=0.5, random_state=42)\n",
    "ada_clf.fit(X_train, y_train)\n",
    "y_pred = ada_clf.predict(X_test)\n",
    "print(\"Ada score: \", accuracy_score(y_test, y_pred))"
   ]
  },
  {
   "cell_type": "code",
   "execution_count": 23,
   "metadata": {},
   "outputs": [
    {
     "name": "stdout",
     "output_type": "stream",
     "text": [
      "Ada score:  0.9466666666666667\n"
     ]
    }
   ],
   "source": [
    "from sklearn.svm import SVC\n",
    "from sklearn.ensemble import AdaBoostClassifier\n",
    "\n",
    "ada_clf = AdaBoostClassifier(SVC(probability = True, kernel = 'rbf'), n_estimators = 200, learning_rate=0.5, random_state=42)\n",
    "ada_clf.fit(X_train, y_train)\n",
    "y_pred = ada_clf.predict(X_test)\n",
    "print(\"Ada score: \", accuracy_score(y_test, y_pred))"
   ]
  },
  {
   "cell_type": "code",
   "execution_count": 113,
   "metadata": {},
   "outputs": [
    {
     "data": {
      "text/plain": [
       "Text(0.5, 1.0, 'Decision Boundary')"
      ]
     },
     "execution_count": 113,
     "metadata": {},
     "output_type": "execute_result"
    },
    {
     "data": {
      "image/png": "[encoded data removed]",
      "text/plain": [
       "<Figure size 360x360 with 1 Axes>"
      ]
     },
     "metadata": {
      "needs_background": "light"
     },
     "output_type": "display_data"
    }
   ],
   "source": [
    "bdt = AdaBoostClassifier(DecisionTreeClassifier(max_depth=3), algorithm=\"SAMME\", n_estimators=50, random_state=0, learning_rate=1.0)\n",
    "bdt.fit(X, y)\n",
    "plot_step = 0.02\n",
    "class_names = ['Positive', 'Negative']\n",
    "plt.figure(figsize=(5, 5))\n",
    "\n",
    "x1_min, x1_max = X[:, 0].min() -1, X[:, 0].max() + 1\n",
    "x2_min, x2_max = X[:, 1].min() -1, X[:, 1].max() + 1\n",
    "xx1, xx2 = np.meshgrid(np.arange(x1_min, x1_max, plot_step), np.arange(x2_min, x2_max, plot_step))\n",
    "Z = bdt.predict(np.c_[xx1.ravel(), xx2.ravel()])\n",
    "Z = Z.reshape(xx1.shape)\n",
    "cs = plt.contourf(xx1, xx2, Z, cmap=plt.cm.Paired)\n",
    "plt.axis(\"tight\")\n",
    "\n",
    "for i, n in zip(range(1), class_names):\n",
    "    idx = np.where(y == 1)\n",
    "    plt.scatter(X[idx, 0], X[idx, 1], c='g', cmap=plt.cm.Paired, s=40, edgecolor='k', label=\"Class %s\" % class_names[i]) \n",
    "    i = i+1\n",
    "    idx = np.where(y == -1)\n",
    "    plt.scatter(X[idx, 0], X[idx, 1], c='r', cmap=plt.cm.Paired, s=40, edgecolor='k', label=\"Class %s\" % class_names[i]) \n",
    "    plt.xlim(x1_min, x1_max)\n",
    "plt.ylim(x2_min, x2_max)\n",
    "plt.legend(loc='upper right')\n",
    "plt.xlabel('x_1')\n",
    "plt.ylabel('x_2')\n",
    "plt.title('Decision Boundary')"
   ]
  },
  {
   "cell_type": "code",
   "execution_count": 115,
   "metadata": {},
   "outputs": [
    {
     "name": "stdout",
     "output_type": "stream",
     "text": [
      "Confusion Matrix : \n",
      " [[25  0]\n",
      " [ 1 24]]\n"
     ]
    }
   ],
   "source": [
    "\n",
    "X_test, y_test = make_blobs(n_samples=50, centers=2,\n",
    "random_state=7, cluster_std=1.5)\n",
    "y_test[y_test == 0] = -1\n",
    "\n",
    "y_pred = bdt.predict(X_test) \n",
    "confusion = confusion_matrix(y_test,y_pred)\n",
    "print('Confusion Matrix : \\n', confusion)"
   ]
  }
 ],
 "metadata": {
  "kernelspec": {
   "display_name": "Python 3",
   "language": "python",
   "name": "python3"
  },
  "language_info": {
   "codemirror_mode": {
    "name": "ipython",
    "version": 3
   },
   "file_extension": ".py",
   "mimetype": "text/x-python",
   "name": "python",
   "nbconvert_exporter": "python",
   "pygments_lexer": "ipython3",
   "version": "3.9.2"
  },
  "orig_nbformat": 4,
  "vscode": {
   "interpreter": {
    "hash": "c6a2dc670f3436433c0efae6fb324965c1072d8aef0b90287abce79ee9328779"
   }
  }
 },
 "nbformat": 4,
 "nbformat_minor": 2
}
