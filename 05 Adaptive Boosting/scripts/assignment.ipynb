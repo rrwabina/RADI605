{
 "cells": [
  {
   "attachments": {},
   "cell_type": "markdown",
   "metadata": {},
   "source": [
    "## **RADI605: Modern Machine Learning**\n",
    "\n",
    "### Assignment: Adaptive Boosting\n",
    "**Romen Samuel Rodis Wabina** <br>\n",
    "Student, PhD Data Science in Healthcare and Clinical Informatics <br>\n",
    "Clinical Epidemiology and Biostatistics, Faculty of Medicine (Ramathibodi Hospital) <br>\n",
    "Mahidol University\n",
    "\n",
    "Note: In case of Python Markdown errors, you may access the assignment through this GitHub [Link](https://github.com/rrwabina/RADI605)"
   ]
  },
  {
   "attachments": {},
   "cell_type": "markdown",
   "metadata": {},
   "source": [
    "### <code> Question 1-2. Please select one dataset from [UCI](https://archive.ics.uci.edu/ml/index.php). Describe the data characteristics by using appropriate statistical techniques. </code> "
   ]
  },
  {
   "cell_type": "code",
   "execution_count": 61,
   "metadata": {},
   "outputs": [],
   "source": [
    "import numpy as np \n",
    "import pandas as pd\n",
    "import matplotlib.pyplot as plt \n",
    "from sklearn.svm import SVC\n",
    "from sklearn.model_selection import train_test_split\n",
    "from sklearn.semi_supervised import LabelSpreading\n",
    "from sklearn.metrics import classification_report, confusion_matrix\n",
    "from numpy import mean\n",
    "from sklearn.datasets import make_classification\n",
    "from sklearn.model_selection import cross_val_score\n",
    "from sklearn.model_selection import RepeatedStratifiedKFold\n",
    "from sklearn.tree import DecisionTreeClassifier\n",
    "from sklearn.preprocessing import StandardScaler\n",
    "from sklearn.model_selection import GridSearchCV\n",
    "from time import time\n",
    "from imblearn.over_sampling import SMOTE\n",
    "from imblearn.pipeline import Pipeline\n",
    "from imblearn.under_sampling import RandomUnderSampler\n",
    "import random\n",
    "import warnings\n",
    "warnings.filterwarnings('ignore')\n",
    "from sklearn.ensemble import AdaBoostClassifier\n",
    "from sklearn.metrics import accuracy_score"
   ]
  },
  {
   "cell_type": "code",
   "execution_count": 67,
   "metadata": {},
   "outputs": [],
   "source": [
    "data = pd.read_csv('../data/sobar-72.csv', sep = ',', header = 0)\n",
    "\n",
    "X = data.iloc[:, 0:19].to_numpy()\n",
    "y = data.iloc[:, 19].to_numpy()\n",
    "y[y == 0] = -1\n",
    "\n",
    "X_train, X_test, y_train, y_test = train_test_split(X, y, test_size = 0.2, random_state = 42)\n",
    "scaler  = StandardScaler()\n",
    "X_train = scaler.fit_transform(X_train)\n",
    "X_test  = scaler.transform(X_test)"
   ]
  },
  {
   "attachments": {},
   "cell_type": "markdown",
   "metadata": {},
   "source": [
    "### <code> Question 3. Create an adaptive boosting classifier with decision tree and SVM by using a python sklearn package. </code>"
   ]
  },
  {
   "cell_type": "code",
   "execution_count": 68,
   "metadata": {},
   "outputs": [
    {
     "name": "stdout",
     "output_type": "stream",
     "text": [
      "Best parameter set found on development set for Precision: \t {'C': 10, 'gamma': 0.001, 'kernel': 'rbf'}\n",
      "Best parameter set found on development set for Recall: \t {'C': 100, 'gamma': 0.01, 'kernel': 'sigmoid'}\n",
      "Best parameter set found on development set for Accuracy: \t {'C': 100, 'gamma': 0.01, 'kernel': 'sigmoid'}\n",
      "Best parameter set found on development set for AUC: \t {'C': 20, 'gamma': 0.001, 'kernel': 'rbf'}\n",
      "Best parameter set found on development set for F1: \t {'C': 100, 'gamma': 0.01, 'kernel': 'sigmoid'}\n"
     ]
    }
   ],
   "source": [
    "tuned_parameters = [{'kernel': ['rbf'],     'gamma': [1, 1e-2, 1e-3, 1e-4, 1e-5, 1e-7], 'C': [0.001, 0.10, 0.1, 10, 20, 25, 50, 100, 1000]},\n",
    "                    {'kernel': ['sigmoid'], 'gamma': [1, 1e-2, 1e-3, 1e-4, 1e-5, 1e-7], 'C': [0.001, 0.10, 0.1, 10, 20, 25, 50, 100, 1000]},\n",
    "                    {'kernel': ['linear'],                                              'C': [0.001, 0.10, 0.1, 10, 20, 25, 50, 100, 1000]}]\n",
    "\n",
    "scoring = {'Precision': 'precision', 'Recall': 'recall', 'Accuracy': 'accuracy', \n",
    "           'AUC': 'roc_auc', 'F1': 'f1_micro'}\n",
    "    \n",
    "random.seed(413)\n",
    "for name, score in zip(scoring.keys(), scoring.values()):\n",
    "    clf = GridSearchCV(SVC(C = 1), param_grid = tuned_parameters, cv = 5,\n",
    "                        scoring = score, refit = 'Accuracy',\n",
    "                        return_train_score = True)\n",
    "    clf.fit(X_train, y_train)\n",
    "    results = clf.cv_results_\n",
    "    print(f'Best parameter set found on development set for {name}: \\t {clf.best_params_}')"
   ]
  },
  {
   "cell_type": "code",
   "execution_count": 74,
   "metadata": {},
   "outputs": [],
   "source": [
    "clf = SVC(kernel = 'sigmoid', C = 100, gamma = 0.01)\n",
    "adaboost_svm = AdaBoostClassifier(clf, algorithm = 'SAMME', n_estimators = 50, random_state = 1, learning_rate = 0.001)\n",
    "adaboost_dct = AdaBoostClassifier(DecisionTreeClassifier(max_depth = 3), algorithm = 'SAMME', n_estimators = 50, random_state = 1, learning_rate = 0.001)"
   ]
  },
  {
   "cell_type": "code",
   "execution_count": 76,
   "metadata": {},
   "outputs": [
    {
     "name": "stdout",
     "output_type": "stream",
     "text": [
      "Adaptive Boosting score:  0.8666666666666667\n",
      "Confusion Matrix : \n",
      " [[8 0]\n",
      " [2 5]]\n",
      "                 precision    recall  f1-score   support\n",
      "\n",
      "Cervical Cancer       0.80      1.00      0.89         8\n",
      "        Healthy       1.00      0.71      0.83         7\n",
      "\n",
      "       accuracy                           0.87        15\n",
      "      macro avg       0.90      0.86      0.86        15\n",
      "   weighted avg       0.89      0.87      0.86        15\n",
      "\n"
     ]
    }
   ],
   "source": [
    "adaboost_svm.fit(X_train, y_train)\n",
    "y_pred = adaboost_svm.predict(X_test)\n",
    "class_names = ['Cervical Cancer', 'Healthy']\n",
    "print(\"Adaptive Boosting score: \", accuracy_score(y_test, y_pred))\n",
    "y_pred = adaboost_svm.predict(X_test)\n",
    "confusion = confusion_matrix(y_test,y_pred)\n",
    "print('Confusion Matrix : \\n', confusion)\n",
    "print(classification_report(y_test, y_pred, target_names=class_names))"
   ]
  },
  {
   "cell_type": "code",
   "execution_count": 77,
   "metadata": {},
   "outputs": [
    {
     "name": "stdout",
     "output_type": "stream",
     "text": [
      "Adaptive Boosting score:  0.8\n",
      "Confusion Matrix : \n",
      " [[8 0]\n",
      " [3 4]]\n",
      "                 precision    recall  f1-score   support\n",
      "\n",
      "Cervical Cancer       0.73      1.00      0.84         8\n",
      "        Healthy       1.00      0.57      0.73         7\n",
      "\n",
      "       accuracy                           0.80        15\n",
      "      macro avg       0.86      0.79      0.78        15\n",
      "   weighted avg       0.85      0.80      0.79        15\n",
      "\n"
     ]
    }
   ],
   "source": [
    "adaboost_dct.fit(X_train, y_train)\n",
    "y_pred = adaboost_dct.predict(X_test)\n",
    "class_names = ['Cervical Cancer', 'Healthy']\n",
    "print(\"Adaptive Boosting score: \", accuracy_score(y_test, y_pred))\n",
    "y_pred = adaboost_dct.predict(X_test)\n",
    "confusion = confusion_matrix(y_test,y_pred)\n",
    "print('Confusion Matrix : \\n', confusion)\n",
    "print(classification_report(y_test, y_pred, target_names=class_names))"
   ]
  }
 ],
 "metadata": {
  "kernelspec": {
   "display_name": "Python 3",
   "language": "python",
   "name": "python3"
  },
  "language_info": {
   "codemirror_mode": {
    "name": "ipython",
    "version": 3
   },
   "file_extension": ".py",
   "mimetype": "text/x-python",
   "name": "python",
   "nbconvert_exporter": "python",
   "pygments_lexer": "ipython3",
   "version": "3.9.2"
  },
  "orig_nbformat": 4,
  "vscode": {
   "interpreter": {
    "hash": "c6a2dc670f3436433c0efae6fb324965c1072d8aef0b90287abce79ee9328779"
   }
  }
 },
 "nbformat": 4,
 "nbformat_minor": 2
}
