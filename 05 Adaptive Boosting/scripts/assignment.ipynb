{
 "cells": [
  {
   "attachments": {},
   "cell_type": "markdown",
   "metadata": {},
   "source": [
    "## **RADI605: Modern Machine Learning**\n",
    "## [In progress]\n",
    "### Assignment: Adaptive Boosting\n",
    "**Romen Samuel Rodis Wabina** <br>\n",
    "Student, PhD Data Science in Healthcare and Clinical Informatics <br>\n",
    "Clinical Epidemiology and Biostatistics, Faculty of Medicine (Ramathibodi Hospital) <br>\n",
    "Mahidol University\n",
    "\n",
    "Note: In case of Python Markdown errors, you may access the assignment through this GitHub [Link](https://github.com/rrwabina/RADI605)"
   ]
  },
  {
   "attachments": {},
   "cell_type": "markdown",
   "metadata": {},
   "source": [
    "### <code> Question 1-2. Please select one dataset from [UCI](https://archive.ics.uci.edu/ml/index.php). Describe the data characteristics by using appropriate statistical techniques. </code> "
   ]
  },
  {
   "cell_type": "code",
   "execution_count": 61,
   "metadata": {},
   "outputs": [],
   "source": [
    "import numpy as np \n",
    "import pandas as pd\n",
    "import matplotlib.pyplot as plt \n",
    "from sklearn.svm import SVC\n",
    "from sklearn.model_selection import train_test_split\n",
    "from sklearn.semi_supervised import LabelSpreading\n",
    "from sklearn.metrics import classification_report, confusion_matrix\n",
    "from numpy import mean\n",
    "from sklearn.datasets import make_classification\n",
    "from sklearn.model_selection import cross_val_score\n",
    "from sklearn.model_selection import RepeatedStratifiedKFold\n",
    "from sklearn.tree import DecisionTreeClassifier\n",
    "from sklearn.preprocessing import StandardScaler\n",
    "from sklearn.model_selection import GridSearchCV\n",
    "from time import time\n",
    "from imblearn.over_sampling import SMOTE\n",
    "from imblearn.pipeline import Pipeline\n",
    "from imblearn.under_sampling import RandomUnderSampler\n",
    "import random\n",
    "import warnings\n",
    "warnings.filterwarnings('ignore')\n",
    "from sklearn.ensemble import AdaBoostClassifier\n",
    "from sklearn.metrics import accuracy_score"
   ]
  },
  {
   "cell_type": "code",
   "execution_count": 120,
   "metadata": {},
   "outputs": [],
   "source": [
    "data = pd.read_csv('../data/sobar-72.csv', sep = ',', header = 0)"
   ]
  },
  {
   "attachments": {},
   "cell_type": "markdown",
   "metadata": {},
   "source": [
    "The dataset comprises of 72 observations and 19 characteristics (excluding the class label). The $y$ consists of two classes comprising of <code>Cervical Cancer</code> and <code>Healthy</code> classes, denoted as 1 and -1, respectively. This implies that the dependent variable $y$ is discrete and categorical in nature. "
   ]
  },
  {
   "attachments": {},
   "cell_type": "markdown",
   "metadata": {},
   "source": [
    "### Data Preprocessing"
   ]
  },
  {
   "cell_type": "code",
   "execution_count": 116,
   "metadata": {},
   "outputs": [],
   "source": [
    "X = data.iloc[:, 0:19].to_numpy()\n",
    "y = data.iloc[:, 19].to_numpy()\n",
    "y[y == 0] = -1\n",
    "\n",
    "X_train, X_test, y_train, y_test = train_test_split(X, y, test_size = 0.2, random_state = 42)\n",
    "scaler  = StandardScaler()\n",
    "X_train = scaler.fit_transform(X_train)\n",
    "X_test  = scaler.transform(X_test)"
   ]
  },
  {
   "attachments": {},
   "cell_type": "markdown",
   "metadata": {},
   "source": [
    "### <code> Question 3. Create an adaptive boosting classifier with decision tree and SVM by using a python sklearn package. </code>"
   ]
  },
  {
   "cell_type": "code",
   "execution_count": 94,
   "metadata": {},
   "outputs": [
    {
     "data": {
      "text/plain": [
       "{'C': 10, 'gamma': 0.001, 'kernel': 'rbf'}"
      ]
     },
     "execution_count": 94,
     "metadata": {},
     "output_type": "execute_result"
    }
   ],
   "source": [
    "def init_params():\n",
    "    tuned_parameters = [{   'kernel': ['rbf'],\n",
    "                            'gamma': [1, 1e-2, 1e-3, 1e-4, 1e-5, 1e-7], \n",
    "                            'C': [0.001, 0.10, 0.1, 10, 20, 25, 50, 100, 1000]},\n",
    "                        {   'kernel': ['sigmoid'], \n",
    "                            'gamma': [1, 1e-2, 1e-3, 1e-4, 1e-5, 1e-7], \n",
    "                            'C': [0.001, 0.10, 0.1, 10, 20, 25, 50, 100, 1000]},\n",
    "                        {   'kernel': ['linear'], \n",
    "                            'C': [0.001, 0.10, 0.1, 10, 20, 25, 50, 100, 1000]}]\n",
    "\n",
    "    scoring = {'Precision': 'precision', \n",
    "               'Recall': 'recall', \n",
    "               'Accuracy': 'accuracy', \n",
    "               'AUC': 'roc_auc', 'F1': 'f1_micro'}\n",
    "    return tuned_parameters, scoring\n",
    "\n",
    "def get_svmtuning(X_train, y_train, cv = 5):\n",
    "    tuned_parameters, scoring = init_params()\n",
    "    random.seed(413)\n",
    "    for name, score in zip(scoring.keys(), scoring.values()):\n",
    "        clf = GridSearchCV(SVC(C = 1), param_grid = tuned_parameters, cv = 5,\n",
    "                            scoring = score, refit = 'Accuracy',\n",
    "                            return_train_score = True)\n",
    "        clf.fit(X_train, y_train)\n",
    "        results = clf.cv_results_\n",
    "        if name == 'F1':\n",
    "            print(f'Best parameter set found on development set for {name}: \\t {clf.best_params_}')\n",
    "        return clf.best_params_\n",
    "\n",
    "get_svmtuning(X_train, y_train, cv = 10)"
   ]
  },
  {
   "cell_type": "code",
   "execution_count": 111,
   "metadata": {},
   "outputs": [],
   "source": [
    "clf = SVC(kernel = 'sigmoid', C = 1000, gamma = 0.0001)\n",
    "adaboost_svm = AdaBoostClassifier(clf, algorithm = 'SAMME', n_estimators = 1000, random_state = 1, learning_rate = 0.0001)"
   ]
  },
  {
   "cell_type": "code",
   "execution_count": 114,
   "metadata": {},
   "outputs": [
    {
     "name": "stdout",
     "output_type": "stream",
     "text": [
      "Adaptive Boosting score:  0.5333333333333333\n",
      "Confusion Matrix : \n",
      " [[8 0]\n",
      " [7 0]]\n",
      "                 precision    recall  f1-score   support\n",
      "\n",
      "Cervical Cancer       0.53      1.00      0.70         8\n",
      "        Healthy       0.00      0.00      0.00         7\n",
      "\n",
      "       accuracy                           0.53        15\n",
      "      macro avg       0.27      0.50      0.35        15\n",
      "   weighted avg       0.28      0.53      0.37        15\n",
      "\n"
     ]
    }
   ],
   "source": [
    "def train_adaboost(model):\n",
    "    model.fit(X_train, y_train)\n",
    "    y_pred = model.predict(X_test)\n",
    "    class_names = ['Cervical Cancer', 'Healthy']\n",
    "    \n",
    "    confusion = confusion_matrix(y_test, y_pred)\n",
    "    \n",
    "    print(\"Adaptive Boosting score: \", accuracy_score(y_test, y_pred))\n",
    "    print('Confusion Matrix : \\n', confusion)\n",
    "    print(classification_report(y_test, y_pred, target_names = class_names))\n",
    "\n",
    "train_adaboost(adaboost_svm)"
   ]
  },
  {
   "cell_type": "code",
   "execution_count": 113,
   "metadata": {},
   "outputs": [],
   "source": [
    "adaboost_dct = AdaBoostClassifier(DecisionTreeClassifier(max_depth = 3), algorithm = 'SAMME', n_estimators = 50, random_state = 1, learning_rate = 0.001)"
   ]
  }
 ],
 "metadata": {
  "kernelspec": {
   "display_name": "Python 3",
   "language": "python",
   "name": "python3"
  },
  "language_info": {
   "codemirror_mode": {
    "name": "ipython",
    "version": 3
   },
   "file_extension": ".py",
   "mimetype": "text/x-python",
   "name": "python",
   "nbconvert_exporter": "python",
   "pygments_lexer": "ipython3",
   "version": "3.9.2"
  },
  "orig_nbformat": 4,
  "vscode": {
   "interpreter": {
    "hash": "c6a2dc670f3436433c0efae6fb324965c1072d8aef0b90287abce79ee9328779"
   }
  }
 },
 "nbformat": 4,
 "nbformat_minor": 2
}
