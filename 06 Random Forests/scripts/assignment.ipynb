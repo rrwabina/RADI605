{
 "cells": [
  {
   "cell_type": "code",
   "execution_count": 1,
   "metadata": {},
   "outputs": [],
   "source": [
    "import numpy as np \n",
    "import pandas as pd\n",
    "import matplotlib.pyplot as plt \n",
    "import seaborn as sns\n",
    "\n",
    "from numpy import mean\n",
    "from sklearn.svm import SVC\n",
    "from sklearn.preprocessing import StandardScaler\n",
    "from sklearn.metrics import classification_report, confusion_matrix, accuracy_score\n",
    "from sklearn.datasets import make_classification\n",
    "from sklearn.datasets import make_blobs\n",
    "from sklearn.model_selection import train_test_split\n",
    "from sklearn.model_selection import cross_val_score\n",
    "from sklearn.model_selection import RepeatedStratifiedKFold\n",
    "from sklearn.model_selection import GridSearchCV\n",
    "from sklearn.tree import DecisionTreeClassifier\n",
    "from sklearn.ensemble import AdaBoostClassifier\n",
    "from sklearn.ensemble import RandomForestClassifier\n",
    "\n",
    "from imblearn.over_sampling import SMOTE\n",
    "from imblearn.pipeline import Pipeline\n",
    "from imblearn.under_sampling import RandomUnderSampler\n",
    "\n",
    "from statsmodels.stats.outliers_influence import variance_inflation_factor\n",
    "\n",
    "import random\n",
    "import warnings\n",
    "warnings.filterwarnings('ignore')"
   ]
  },
  {
   "cell_type": "code",
   "execution_count": 52,
   "metadata": {},
   "outputs": [],
   "source": [
    "def convert_binary(df, columns = ['Risk1Yr']):\n",
    "    for column in columns:\n",
    "        df[column] = df[column].apply(lambda x: 0 if x == 'F' else 1)\n",
    "    return df\n",
    "\n",
    "def load_thoracic(path = '../data/ThoraricSurgery.csv'):\n",
    "    data = pd.read_csv(path)\n",
    "    # data = data[['PRE4', 'AGE', 'Risk1Yr']]\n",
    "    data = convert_binary(data, columns = ['Risk1Yr'])\n",
    "    X, y = data[['PRE4', 'AGE']], data['Risk1Yr']\n",
    "    X, y = X.to_numpy(), y.to_numpy()\n",
    "    y[y == 0] = -1\n",
    "    return X, y\n",
    "\n",
    "X, y = load_thoracic()\n",
    "\n",
    "oversample = SMOTE()\n",
    "X, y = oversample.fit_resample(X, y)"
   ]
  },
  {
   "cell_type": "code",
   "execution_count": 53,
   "metadata": {},
   "outputs": [],
   "source": [
    "np.random.seed(415)\n",
    "X_train, X_test, y_train, y_test = train_test_split(X, y, test_size = 0.2, random_state = 42)\n",
    "scaler  = StandardScaler()\n",
    "X_train = scaler.fit_transform(X_train)\n",
    "X_test  = scaler.transform(X_test)"
   ]
  },
  {
   "cell_type": "code",
   "execution_count": 126,
   "metadata": {},
   "outputs": [
    {
     "data": {
      "text/plain": [
       "Text(0.5, 1.0, 'Imbalanced dataset')"
      ]
     },
     "execution_count": 126,
     "metadata": {},
     "output_type": "execute_result"
    },
    {
     "data": {
      "image/png": "[encoded data removed]",
      "text/plain": [
       "<Figure size 432x288 with 1 Axes>"
      ]
     },
     "metadata": {
      "needs_background": "light"
     },
     "output_type": "display_data"
    }
   ],
   "source": [
    "x = np.arange(2)\n",
    "plt.bar(x, height = [len(y[y == 1]), len(y[y == 0])])\n",
    "plt.xticks(x, ['Cervical Cancer', 'No Cervical Cancer'])\n",
    "plt.ylabel('Number of Respondents')\n",
    "plt.title('Imbalanced dataset')"
   ]
  },
  {
   "cell_type": "code",
   "execution_count": 124,
   "metadata": {},
   "outputs": [
    {
     "name": "stdout",
     "output_type": "stream",
     "text": [
      "              precision    recall  f1-score   support\n",
      "\n",
      "           0       0.85      0.97      0.91        64\n",
      "           1       0.33      0.08      0.13        12\n",
      "\n",
      "    accuracy                           0.83        76\n",
      "   macro avg       0.59      0.53      0.52        76\n",
      "weighted avg       0.77      0.83      0.78        76\n",
      "\n",
      "[[62  2]\n",
      " [11  1]]\n"
     ]
    }
   ],
   "source": [
    "from sklearn.tree import DecisionTreeClassifier\n",
    "import random\n",
    "from scipy import stats\n",
    "from sklearn.metrics import classification_report\n",
    "\n",
    "B = 5\n",
    "m, n = X_train.shape\n",
    "boostrap_ratio = 1\n",
    "tree_params = { 'max_depth': 5, \n",
    "                'criterion':'gini', \n",
    "                'min_samples_split': 5}\n",
    "                \n",
    "models = [DecisionTreeClassifier(**tree_params) for _ in range(B)]\n",
    "\n",
    "sample_size = int(boostrap_ratio * len(X_train))\n",
    "\n",
    "xsamples = np.zeros((B, sample_size, n))\n",
    "ysamples = np.zeros((B, sample_size))\n",
    "\n",
    "for i in range(B):\n",
    "    for j in range(sample_size):\n",
    "        idx = random.randrange(m)  \n",
    "        xsamples[i, j, :] = X_train[idx]\n",
    "        ysamples[i, j] = y_train[idx]\n",
    "for i, model in enumerate(models):\n",
    "    _X = xsamples[i, :]\n",
    "    _y = ysamples[i, :]\n",
    "    model.fit(_X, _y)\n",
    "predictions = np.zeros((B, X_test.shape[0]))\n",
    "for i, model in enumerate(models):\n",
    "    yhat = model.predict(X_test)\n",
    "    predictions[i, :] = yhat\n",
    "    \n",
    "yhat = stats.mode(predictions)[0][0] \n",
    "print(classification_report(y_test, yhat))\n",
    "print(confusion_matrix(y_test, yhat))"
   ]
  },
  {
   "cell_type": "code",
   "execution_count": 121,
   "metadata": {},
   "outputs": [],
   "source": [
    "def generate_labeled(X, y, rate = 0.68, include_unlabeled = False, include_neg = False):\n",
    "    random.seed(30)\n",
    "    size = int(np.round(X.shape[0] * rate))\n",
    "    index = random.sample(range(len(y)), size)\n",
    "    labeled = random.sample([x for x in range(X.shape[0]) if x not in index], X.shape[0] - size)\n",
    "    X_labeled, y_labeled = X[labeled], y[labeled]\n",
    "\n",
    "    assert X_labeled.shape[0] == y_labeled.shape[0]\n",
    "\n",
    "    if include_unlabeled == True:\n",
    "        X_unlabel, y_unlabel = X, y.copy()\n",
    "        if include_neg == True:\n",
    "            y_unlabel[index] = -1\n",
    "        else:\n",
    "            y_unlabel[index] =  0\n",
    "        return X_labeled, y_labeled, X_unlabel, y_unlabel \n",
    "    return X_labeled, y_labeled\n",
    "\n",
    "def convert_binary(df, columns = ['Risk1Yr']):\n",
    "    for column in columns:\n",
    "        df[column] = df[column].apply(lambda x: 0 if x == 'F' else 1)\n",
    "    return df\n",
    "\n",
    "def load_thoracic(path = '../data/ThoraricSurgery.csv'):\n",
    "    data = pd.read_csv(path)\n",
    "    data = data[data.columns[2:]]\n",
    "    data = data.drop(['PRE6', 'PRE14'], axis = 1)\n",
    "    label_columns = data.columns[2:12]\n",
    "    data = convert_binary(data, columns = ['Risk1Yr'])\n",
    "    data = convert_binary(data, columns = label_columns)\n",
    "    include_columns = data.columns[0:-1]\n",
    "    X, y = data[include_columns], data['Risk1Yr']\n",
    "    X, y = X.to_numpy(), y.to_numpy()\n",
    "    return X, y, data\n",
    "\n",
    "X, y, data = load_thoracic()\n",
    "X, y = generate_labeled(X, y, rate = 0.20, include_neg = True)"
   ]
  },
  {
   "cell_type": "code",
   "execution_count": 123,
   "metadata": {},
   "outputs": [
    {
     "data": {
      "text/plain": [
       "<AxesSubplot:>"
      ]
     },
     "execution_count": 123,
     "metadata": {},
     "output_type": "execute_result"
    },
    {
     "data": {
      "image/png": "[encoded data removed]",
      "text/plain": [
       "<Figure size 432x288 with 2 Axes>"
      ]
     },
     "metadata": {
      "needs_background": "light"
     },
     "output_type": "display_data"
    }
   ],
   "source": [
    "plt.figure(figsize=(6,4))\n",
    "sns.heatmap(data.corr(), cmap = 'Blues', annot = False) "
   ]
  },
  {
   "cell_type": "code",
   "execution_count": 111,
   "metadata": {},
   "outputs": [
    {
     "name": "stdout",
     "output_type": "stream",
     "text": [
      "              precision    recall  f1-score   support\n",
      "\n",
      "           0       0.99      1.00      0.99       257\n",
      "           1       0.98      0.93      0.95        43\n",
      "\n",
      "    accuracy                           0.99       300\n",
      "   macro avg       0.98      0.96      0.97       300\n",
      "weighted avg       0.99      0.99      0.99       300\n",
      "\n"
     ]
    }
   ],
   "source": [
    "def svm_train(X, y, target_names = None):\n",
    "    assert X.shape[0] == y.shape[0]\n",
    "    random.seed(413)\n",
    "    svclassifier = SVC(kernel = 'rbf', C = 100, gamma = 1)\n",
    "    svclassifier.fit(X, y)\n",
    "    predictions = svclassifier.predict(X)\n",
    "    print(classification_report(y, predictions, target_names = None))\n",
    "    return svclassifier\n",
    "\n",
    "X_train, X_test, y_train, y_test = train_test_split(X, y, test_size = 0.2, random_state = 42)\n",
    "svclassifier = svm_train(X_train, y_train, target_names = ['No Surgery Risk', 'Surgery Risk'])"
   ]
  },
  {
   "cell_type": "code",
   "execution_count": 112,
   "metadata": {},
   "outputs": [
    {
     "name": "stdout",
     "output_type": "stream",
     "text": [
      "{'criterion': 'gini', 'max_depth': 6, 'min_samples_split': 2, 'n_estimators': 10}\n",
      "              precision    recall  f1-score   support\n",
      "\n",
      "           0       0.84      1.00      0.91        64\n",
      "           1       0.00      0.00      0.00        12\n",
      "\n",
      "    accuracy                           0.84        76\n",
      "   macro avg       0.42      0.50      0.46        76\n",
      "weighted avg       0.71      0.84      0.77        76\n",
      "\n",
      "[[64  0]\n",
      " [12  0]]\n"
     ]
    }
   ],
   "source": [
    "param_grid = { \n",
    "                'n_estimators': [10, 50, 100], \n",
    "                'criterion': ['gini', 'entropy'],\n",
    "                'max_depth': np.arange(1, 10),\n",
    "                'min_samples_split': np.arange(1, 5)\n",
    "              }\n",
    "model = RandomForestClassifier()\n",
    "\n",
    "grid = GridSearchCV(model, param_grid, refit = True)\n",
    "grid.fit(X_train, y_train)\n",
    "\n",
    "print(grid.best_params_)\n",
    "\n",
    "yhat = grid.predict(X_test)\n",
    "\n",
    "print(classification_report(y_test, yhat))\n",
    "print(confusion_matrix(y_test, yhat))"
   ]
  }
 ],
 "metadata": {
  "kernelspec": {
   "display_name": "Python 3",
   "language": "python",
   "name": "python3"
  },
  "language_info": {
   "codemirror_mode": {
    "name": "ipython",
    "version": 3
   },
   "file_extension": ".py",
   "mimetype": "text/x-python",
   "name": "python",
   "nbconvert_exporter": "python",
   "pygments_lexer": "ipython3",
   "version": "3.9.2"
  },
  "orig_nbformat": 4,
  "vscode": {
   "interpreter": {
    "hash": "c6a2dc670f3436433c0efae6fb324965c1072d8aef0b90287abce79ee9328779"
   }
  }
 },
 "nbformat": 4,
 "nbformat_minor": 2
}
