{
 "cells": [
  {
   "attachments": {},
   "cell_type": "markdown",
   "metadata": {},
   "source": [
    "### 1.  From the Gene Expression Microarray Data with 4 genes and 2 classes <code>(Cancer=[Yes, No])</code>. Create a Gradient Boost Tree by showing step-by-step calculation and setting $M = 1$, $\\alpha = 0.3$ and <code>max depth = 3</code>.\n",
    "\n",
    "| Samples   | Gene 1 | Gene 2 | Gene 3 | Gene 4 | Cancer | \n",
    "|:---------:|--------|--------|--------|--------|--------|\n",
    "|     1     |  4.80  |  3.40  |  1.90  |  0.20  |  Yes   | \n",
    "|     2     |  5.00  |  3.00  |  1.60  |  1.20  |  Yes   | \n",
    "|     3     |  5.00  |  3.40  |  1.60  |  0.20  |  Yes   | \n",
    "|     4     |  5.20  |  3.50  |  1.50  |  0.20  |  Yes   | \n",
    "|     5     |  4.80  |  3.10  |  1.60  |  0.20  |  Yes   | \n",
    "|     6     |  5.40  |  3.40  |  1.50  |  0.40  |  Yes   | \n",
    "|     7     |  6.40  |  3.20  |  4.70  |  1.50  |  No    | \n",
    "|     8     |  6.90  |  3.10  |  4.90  |  1.50  |  No    | \n",
    "|     9     |  5.50  |  2.30  |  4.00  |  1.30  |  No    | \n",
    "|    10     |  6.50  |  2.80  |  4.60  |  1.50  |  No    | \n",
    "|    11     |  5.70  |  2.80  |  4.50  |  1.30  |  No    | \n",
    "|    12     |  6.30  |  3.30  |  4.70  |  1.60  |  No    | "
   ]
  },
  {
   "attachments": {},
   "cell_type": "markdown",
   "metadata": {},
   "source": [
    "### Solution:\n",
    "We start with a leaf that represents an initial prediction for every individual using <code>log(odds)</code>. Since there are 6 patients in the dataset who have cancer while 6 patients do not have cancer, then the <code>log(odds)</code> that somehave have cancer is\n",
    "$$ \\log(\\frac{6}{6}) = \\log\\left({\\frac{p}{1-p}}\\right) = \\log(\\frac{0.5}{0.5}) = \\log(1) = 0$$\n",
    "From the <code>log(odds)</code>, the probability of having cancer is:\n",
    "$$ \\frac{e^{\\log(\\frac{6}{6})}}{1 + e^{\\log(\\frac{6}{6})}} = \\frac{e^{0}}{1 + e^{0}} = 0.5$$\n",
    "\n",
    "Since the probability of having cancer is greater than or equal to 0.5, we can classify the patients in the dataset as someone who have cancer. We can measure how bad the initial prediction is by calculating psuedo-residuals, the difference between the observed and the predicted values, i.e., <code>residual = observed - predicted</code>."
   ]
  }
 ],
 "metadata": {
  "kernelspec": {
   "display_name": "base",
   "language": "python",
   "name": "python3"
  },
  "language_info": {
   "codemirror_mode": {
    "name": "ipython",
    "version": 3
   },
   "file_extension": ".py",
   "mimetype": "text/x-python",
   "name": "python",
   "nbconvert_exporter": "python",
   "pygments_lexer": "ipython3",
   "version": "3.8.5"
  },
  "orig_nbformat": 4,
  "vscode": {
   "interpreter": {
    "hash": "3608206ce1eb198bd23abae205dd191f991de1c92dbe872a18ef9e948d8a869d"
   }
  }
 },
 "nbformat": 4,
 "nbformat_minor": 2
}
