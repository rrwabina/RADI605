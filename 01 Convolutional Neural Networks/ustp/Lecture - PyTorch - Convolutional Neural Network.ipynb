{
 "cells": [
  {
   "cell_type": "markdown",
   "metadata": {},
   "source": [
    "# PyTorch - Convolutional Neural Network\n",
    "## BSDS4 Deep Learning Elective\n",
    "2022 DS Elective 4 <br>\n",
    "University of Science and Technology of the Philippines <br>\n",
    "Instructor: Romen Samuel Wabina, MSc <br>\n",
    "\n",
    "- https://pytorch.org/tutorials/"
   ]
  },
  {
   "cell_type": "code",
   "execution_count": 1,
   "metadata": {},
   "outputs": [
    {
     "name": "stderr",
     "output_type": "stream",
     "text": [
      "c:\\Users\\Renan\\AppData\\Local\\Programs\\Python\\Python39\\lib\\site-packages\\torchvision\\io\\image.py:11: UserWarning: Failed to load image Python extension: [WinError 127] The specified procedure could not be found\n",
      "  warn(f\"Failed to load image Python extension: {e}\")\n"
     ]
    }
   ],
   "source": [
    "import torch\n",
    "import torch.nn as nn\n",
    "import torch.nn.functional as F\n",
    "from torch.utils.data import DataLoader\n",
    "\n",
    "# Torchvision is a package consists of popular datasets, model architectutes, and common image transformations for computer vision\n",
    "# To install, use <pip install torchvision>\n",
    "import torchvision\n",
    "from torchvision import datasets, transforms #Transforms can be used for data preprocessing (i.e., tensor normalization)\n",
    "from torchvision.utils import make_grid\n",
    "\n",
    "import numpy as np\n",
    "import pandas as pd\n",
    "from sklearn.metrics import confusion_matrix\n",
    "import matplotlib.pyplot as plt\n",
    "%matplotlib inline"
   ]
  },
  {
   "cell_type": "markdown",
   "metadata": {},
   "source": [
    "In this section, we will introduce the **Convolutional Neural Network**, also known as CNN or ConvNets, as a better way for dealing with *image classification, detection, segmentation, computer vision, and other tasks involving image datasets*. <br>\n",
    "\n",
    "- The CNNs emerged from the study of the brain's visual cortex, and have been used in image recognition since 1980s.\n",
    "- CNNs are also successful in implementing voice recognition and natural language processing, However, **we will focus on visual applications for now.**\n",
    "\n",
    "There are four layers that can help dealing with images:\n",
    "\n",
    "1. Convolutional layer\n",
    "2. Pooling layer\n",
    "3. BatchNorm layer\n",
    "4. Dropout layer"
   ]
  },
  {
   "cell_type": "markdown",
   "metadata": {},
   "source": [
    "## 1. Image data"
   ]
  },
  {
   "cell_type": "markdown",
   "metadata": {},
   "source": [
    "It is first important to define the **input shape of an image**, which will be <code>(input channels, image height, image width)</code>. Let's say given a image of 14 x 14 pixels = 196 features like this.  Each data point is an array of numbers describing how dark each pixel is, where value range from 0 to 255.  These values can be normalized ranging from 0 to 1. For example, for the following digit (the digit 1), we could have:\n",
    "\n",
    "<img src =\"figures/one.png\" width=\"550\">  \n",
    "\n",
    "If we have **lots of images**, the input shall be <code>(batch size, input channels, image height, image width)</code>. This is the STANDARD FORMAT of image shapes in using PyTorch.\n",
    "\n",
    "- For our case, if it is a grayscale image, the input channel is 1 where its shape is <code>(1, 14, 14)</code>.  \n",
    "- If it is a **RGB image**, it shall be <code>(3, 14, 14)</code>.  \n",
    "- If it is a **CMYK**, it shall be <code>(4, 14, 14)</code>.  \n",
    "- If I define batch size as 500 (out of many more images I have), my input is <code>(500, 4, 14, 14)</code>.  (Commonly, batch size is around few hundreds).\n",
    "\n",
    "Therefore, a 2D image, like the picture of Hagrid, has three dimensions. A three-dimensional image, e.g., MRI image, has four dimensions."
   ]
  },
  {
   "cell_type": "code",
   "execution_count": 3,
   "metadata": {},
   "outputs": [],
   "source": [
    "import matplotlib.image as mpimg\n",
    "image  = mpimg.imread('../CNN/figures/hagrid.jpg')\n",
    "\n",
    "# Let's try a picture of Rubeus Hagrid. *Raises wand and cries*\n",
    "hagrid = torch.tensor(image)\n",
    "plt.imshow(hagrid)\n",
    "print(f'Image shape using matplotlib.image: {hagrid.shape}') \n",
    "\n",
    "hagrid = hagrid.permute(2, 0, 1)\n",
    "print(f'Proper image shape when using PyTorch: {hagrid.shape}') \n",
    "# (C, H, W)\n",
    "# (B, C, H, W)"
   ]
  },
  {
   "cell_type": "markdown",
   "metadata": {},
   "source": [
    "## 2. Convolutional Layer\n",
    "The most important building block of a CNN is the **convolutional layer**. It is a mathematical operation that *slides* one function over another and measures the integral of their pointwise multiplication. Convolutional network works on the central concept of a convolution operation like this:\n",
    "\n",
    "<img src =\"figures/no_padding_no_strides.gif\" width=\"150\">\n",
    "\n",
    "Mathematically, it looks like this:\n",
    "\n",
    "Let's say we have a 5 x 5 input image $I$ of channel 0 of batch 0. Hence, its shape is <code>(0, 0, 5, 5)</code>:\n",
    "\n",
    "$$ I = \\begin{bmatrix}\n",
    "i_{11} & i_{12} & i_{13} & i_{14} & i_{15}\n",
    "\\\\\n",
    "i_{21} & i_{22} & i_{23} & i_{24} & i_{25}\n",
    "\\\\\n",
    "i_{31} & i_{32} & i_{33} & i_{34} & i_{35}\n",
    "\\\\\n",
    "i_{41} & i_{42} & i_{43} & i_{44} & i_{45}\n",
    "\\\\\n",
    "i_{51} & i_{52} & i_{53} & i_{54} & i_{55}\n",
    "\\end{bmatrix}\n",
    "$$\n"
   ]
  },
  {
   "cell_type": "markdown",
   "metadata": {},
   "source": [
    "Each of this pixel may represent the brightness ranging from 0 to 255.  Or if normalized, shall be 0 to 1.\n",
    "\n",
    "If we define a 3 x 3 patch which we commonly called **weights (W)** or in computer vision, we called **filters/kernels** like this (*we shall called filters in this lecture note for simplicity*) :\n",
    "\n",
    "$$ W = \\begin{bmatrix}\n",
    "w_{11} & w_{12} & w_{13}\n",
    "\\\\\n",
    "w_{21} & w_{22} & w_{23}\n",
    "\\\\\n",
    "w_{31} & w_{32} & w_{33}\n",
    "\\end{bmatrix}\n",
    "$$\n",
    "\n",
    "Let's say we are scanning the middle of the image, then the output feature would be (we'll denote this as $o_{33}$):\n",
    "\n",
    "$$\\text{output}_{33} = w_{11} * i_{22} + w_{12} * i_{23} + w_{13} * i_{24} + \\\n",
    "                       w_{21} * i_{32} + w_{22} * i_{32} + w_{23} * i_{34} + \\\n",
    "                       w_{32} * i_{43} + w_{33} * i_{44}$$\n",
    "           \n",
    "This will result in one output feature called **feature map**.  Of course, we may add bias to it and then will be fed through an activation function.\n",
    "\n",
    "Actual feature maps look like this.  Each feature map is a output of a single training example and convolve each kernel over the sample.    In simple words, if we have $k$ filters, then we have $k$ feature maps.  They represent the activation part corresponding to the kernels.\n",
    "\n",
    "<img src =\"figures/feature-map2.png\" width=\"450\">\n",
    "\n",
    "Using the example above, we apply the filters to the picture of Hagrid. \n",
    "\n",
    "<img src =\"figures/filter.jpg\" width=\"1050\">"
   ]
  },
  {
   "cell_type": "markdown",
   "metadata": {},
   "source": [
    "In using PyTorch, we primarily use the script <code>torch.nn.Conv2d(input_channels, output_channels, kernel_size, stride = 1, padding = 0)</code>\n",
    "\n",
    "In a convolution operation, there are 3 main hyperparameters to fine tune - (1) filter size (<code>kernel_size</code>), (2) padding, and (3) stride.\n",
    "\n",
    "#### A. Filters\n",
    "\n",
    "1. **How the filters look like?**.  It turns out that each filter actually detect the presence of certain visual pattern.  For example, this filter below detects whether there is an edge at that location of the image.  There are also other similar filters detecting corners, lines, etc.  Check out https://setosa.io/ev/image-kernels/  and try changing the values\n",
    "\n",
    "$$ w = \\begin{bmatrix}\n",
    "0 & 1 & 0\n",
    "\\\\\n",
    "1 & -4 & 1\n",
    "\\\\\n",
    "0 & 1 & 0\n",
    "\\end{bmatrix}\n",
    "$$\n",
    "\n",
    "Real filters can look like this.  They may look somewhat random at first glance, but we can see that clear structure being learned in most kernels. For example, filters 3 and 4 seem to be learning diagonal edges in opposite directions, and other capture round edges or enclosed spaces:\n",
    "\n",
    "<img src =\"figures/kernels.png\" width=\"500\">\n",
    "\n",
    "However, **it is important to note that we DON'T need to decide the filters** to use.  We can simply feed a random generated filter, and it is the job of CNN to learn these filters.   These learned filters will learn what features are most efficient for the classification process.\n",
    "\n",
    "**What is the shape of filters?**.  \n",
    "- For each image, we can apply multiple filters, depending on how many output channels we want.  \n",
    "- Let's say the input channel is 3, and we want the output channel to 64, then we apply a filter of size <code>(3, 64, filter width, filter height)</code>.\n",
    "- Hence, <code>torch.nn.Conv2d(3, 64, filter width, filter height)</code> \n",
    "- Do not be confused with the <code>Conv2d</code> and PyTorch image shape. \n",
    "    - Conv2d: <code>torch.nn.Conv2d(input_channels, output_channels, kernel_size, stride = 1, padding = 0)</code>\n",
    "    - <code>(input channels, image height, image width)</code>\n",
    "\n",
    "**How do we know how many output channel to use?** \n",
    "- The answer is we don't know...we just try and see what works.  More filter allows the network to look at more patterns.\n",
    "\n",
    "**What should be the filter size?**  <br>\n",
    "- If we use a 3 x 3 filter, each pixel got 8 neighboring information.  On the other hand, if we we use big filter like 9 x 9, then we got 80 neighboring information.  \n",
    "- In research and the industry, the typical filter sizes are $3 \\times 3$ or $5 \\times 5$.\n"
   ]
  },
  {
   "cell_type": "markdown",
   "metadata": {},
   "source": [
    "#### B. Padding\n",
    "\n",
    "2. **How should we convolve the edges?**. Recall this image:\n",
    "\n",
    "<img src =\"figures/no_padding_no_strides.gif\" width=\"150\">\n",
    "\n",
    "It has 4 x 4 pixels = 16 features.  But after convolution, we only got 2 x 2 pixels = 4 features left.  Is that good?  There are no correct answers here but we are quite sure that we lose some information.  One way is address this is **padding**, where we can enlarge the input image by padding the surroundings with zeros.  How much?  Padding until we get the original size or larger size, for example, like this.  The below put zero padding around which result the output features to be the same size as input features.\n",
    "\n",
    "<img src =\"figures/same_padding_no_strides.gif\" width=\"150\">\n",
    "\n",
    "The below put even more padding which pad to make sure each single pixel is convoluted (full padding), which result the output features to be even large\n",
    "\n",
    "<img src =\"figures/full_padding_no_strides.gif\" width=\"150\">\n",
    "\n",
    "#### C. Strides\n",
    "\n",
    "3. **How many step we should take to slide our filter? Skip 2?** Should we shift 1 step per convolution, or 2 steps, or how many steps.  **In fact, it really depends on how detail you want it to be.  But defining bigger steps reduce the feature size and thus reduce the computation time.**  Bigger step is like human scanning picture more roughly but can reduce the computation time....whether to use it is something to be experimented though. \n",
    "\n",
    "In computer vision, we called this step as **stride**.  Example is like this:\n",
    "\n",
    "**No padding with stride of 2**\n",
    "\n",
    "<img src =\"figures/no_padding_strides.gif\" width=\"150\">\n",
    "\n",
    "**Padding with stride of 2**\n",
    "\n",
    "<img src =\"figures/padding_strides.gif\" width=\"150\">\n",
    "\n",
    "Actual image convolution can look like this (with stride 1 and no padding):\n",
    "\n",
    "<img src =\"figures/conv.gif\" width=\"800\">\n",
    "\n",
    "The convoluted image may look like this (nothing relate with the above matrix though):\n",
    "\n",
    "<img src =\"figures/convimages.png\" width=\"700\">\n",
    "\n",
    "**The formula to be used to measure the padding value to get the spatial size of the input and output volume to be the same with stride 1** is\n",
    "\n",
    "$$ \\frac{K-1}{2} $$\n",
    "\n",
    "where $K$ is the filter size.\n",
    "\n",
    "This means that if our image is size $24 * 24$, and the filter size is $3 x 3$, then our $K$ has size 3 so the padding should be $(3-1)/2 = 1$, then we need to add **a border of one pixel valued 0 around the outside of the image**, which would result in the input image of size $26 * 26$\n",
    "\n",
    "#### D. Shape\n",
    "\n",
    "4. **What would be the shape of the output matrix?**\n",
    "\n",
    "The output shape (denote as $O$) depend on the stride (denote as $S$), padding (denote as $P$), filter size (denote as $F$) as well as the input width and height (denote as $I$). $O$ can be calculated with the formula as follows:\n",
    "\n",
    "$$O = \\frac{W-F+2P}{S} + 1$$\n",
    "\n",
    "In this case (code below), if our W is 28, F is 5, P is 2, and S is 1 then the width/height is 28\n",
    "\n",
    "In conclusion, \n",
    "\n",
    "- The input will have a 4D shape of <code>(batch size, input channels, input height, input width)</code>\n",
    "\n",
    "- The output will have a 4D shape of <code>(batch size, output channels, output height, output width)</code>\n",
    "\n",
    "- The convolutional filters will have 4D shape of <code>(input channels, output channels, filter height, filter width)</code>"
   ]
  },
  {
   "cell_type": "markdown",
   "metadata": {},
   "source": [
    "## 2. Max/Average Pooling Layer\n",
    "\n",
    "Talking about **reducing computation time**, a common way is to perform a **pooling layer** which simply downsample the image by average a set of pixels, or by taking the maximum value.  If we define a pooling size of 2, this involves mapping each 2 x 2 pixels to one output, like this:\n",
    "\n",
    "<img src =\"figures/pooling.png\" width=\"350\">\n",
    "\n",
    "Nevertheless, pooling has a really big downsides, i.e., it basically lose a lot of information.  Compared to strides, strides simply scan less but maintain the same resolution but pooling simply reduce the resolution of the images.\n",
    "\n",
    "As Geoffrey Hinton said on Reddit AMA in 2014 - **The pooling operation used in CNN is a big mistake and the fact that it works so well is a disaster**.  In fact, in most recent CNN architectures like ResNets, it uses pooling very minimially or not at all.\n",
    "\n",
    "The maximum pooling layer for 2D images over an input signal can be used through this script: <code>torch.nn.MaxPool2d(kernel_size, stride=None, padding=0)</code> <br>\n",
    "\n",
    "<img src =\"figures/pooling2.png\" width=\"850\">"
   ]
  },
  {
   "cell_type": "markdown",
   "metadata": {},
   "source": [
    "## 3. BatchNorm Layer\n",
    "\n",
    "Batch norm is nothing other than normalize samples within the batch.  That is, minus the mean of features within the batch.  This helps with unstable gradients in SGD. Note that the output size does not change from input size after BatchNorm.\n",
    "\n",
    "<img src =\"figures/batchnorm.png\" width=\"300\">\n",
    "\n",
    "<img src =\"figures/landscape.png\" width=\"500\">\n",
    "\n",
    "\n",
    "## 4. Dropout Layer\n",
    "\n",
    "This is a layer of arbitrarily removing some values in your data.  By randomly removing data in each iteration, you make the neural network more robust against overfitting, because it needs to learn to fight with incomplete data.\n",
    "\n",
    "For example, say we have a vector of $x = {1, 2, 3, 4, 5}$.  Let's set $p=0.2$ which means 20\\% of data will be turn to 0.  In training mode, $x_\\text{train} = {1, 0, 3, 4, 5}$ ; do not confuse why I turn off 2 and not others, I just turn 20\\% off randomly.  In evaluation mode, we turn off dropout, but to make sure the distribution remains similar, we multiply the values by $1 - 0.2 = 0.8$, which becomes $x_\\text{inference} = {0.8, 1.6, 2.4, 3.2, 4.0}$"
   ]
  },
  {
   "cell_type": "markdown",
   "metadata": {},
   "source": [
    "## 1. ETL: Load the MNIST dataset\n",
    "PyTorch makes the MNIST train and test datasets available through <a href='https://pytorch.org/docs/stable/torchvision/index.html'><tt><strong>torchvision</strong></tt></a>. The first time they're called, the datasets will be downloaded onto your computer to the path specified. From that point, torchvision will always look for a local copy before attempting another download."
   ]
  },
  {
   "cell_type": "code",
   "execution_count": 4,
   "metadata": {},
   "outputs": [],
   "source": [
    "transform = transforms.ToTensor() # Pytorch transformation to tensor\n",
    "\n",
    "train_data = datasets.MNIST(root='data', train=True, download=True, transform=transform)\n",
    "train_set, val_set = torch.utils.data.random_split(train_data, [50000, 10000])\n",
    "test_data  = datasets.MNIST(root='data', train=False, download=True, transform=transform)"
   ]
  },
  {
   "cell_type": "code",
   "execution_count": 5,
   "metadata": {},
   "outputs": [
    {
     "data": {
      "text/plain": [
       "Dataset MNIST\n",
       "    Number of datapoints: 60000\n",
       "    Root location: data\n",
       "    Split: Train\n",
       "    StandardTransform\n",
       "Transform: ToTensor()"
      ]
     },
     "execution_count": 5,
     "metadata": {},
     "output_type": "execute_result"
    }
   ],
   "source": [
    "train_data"
   ]
  },
  {
   "cell_type": "code",
   "execution_count": 6,
   "metadata": {},
   "outputs": [
    {
     "data": {
      "text/plain": [
       "Dataset MNIST\n",
       "    Number of datapoints: 10000\n",
       "    Root location: data\n",
       "    Split: Test\n",
       "    StandardTransform\n",
       "Transform: ToTensor()"
      ]
     },
     "execution_count": 6,
     "metadata": {},
     "output_type": "execute_result"
    }
   ],
   "source": [
    "test_data"
   ]
  },
  {
   "cell_type": "markdown",
   "metadata": {},
   "source": [
    "### Create loaders"
   ]
  },
  {
   "cell_type": "code",
   "execution_count": 7,
   "metadata": {},
   "outputs": [],
   "source": [
    "train_loader = DataLoader(train_set, batch_size=10, shuffle=True)\n",
    "val_loader   = DataLoader(val_set, batch_size=10, shuffle=True)\n",
    "test_loader  = DataLoader(test_data, batch_size=10, shuffle=True)"
   ]
  },
  {
   "cell_type": "code",
   "execution_count": 8,
   "metadata": {},
   "outputs": [
    {
     "data": {
      "text/plain": [
       "5000"
      ]
     },
     "execution_count": 8,
     "metadata": {},
     "output_type": "execute_result"
    }
   ],
   "source": [
    "len(train_loader)"
   ]
  },
  {
   "cell_type": "markdown",
   "metadata": {},
   "source": [
    "## 2. Define a convolutional model\n",
    "\n",
    "In the previous section we used only fully connected layers, with an input layer of 784 (our flattened 28x28 images), hidden layers of 120 and 84 neurons, and an output size representing 10 possible digits.\n",
    "\n",
    "This time we'll employ two convolutional layers and two pooling layers before feeding data through fully connected hidden layers to our output. The model follows CONV/RELU/POOL/CONV/RELU/POOL/FC/RELU/FC."
   ]
  },
  {
   "cell_type": "markdown",
   "metadata": {},
   "source": [
    "<div class=\"alert alert-info\"><strong>Let's walk through the steps we're about to take.</strong><br>\n",
    "\n",
    "1. Extend the base Module class:\n",
    "   \n",
    "<tt><font color=white>class ConvolutionalNetwork(nn.Module):<br>\n",
    "&nbsp;&nbsp;&nbsp;&nbsp;def \\_\\_init\\_\\_(self):<br>\n",
    "&nbsp;&nbsp;&nbsp;&nbsp;&nbsp;&nbsp;&nbsp;&nbsp;super().\\_\\_init\\_\\_()</font></tt><br>\n",
    "\n",
    "2. Set up the convolutional layers with <a href='https://pytorch.org/docs/stable/nn.html#conv2d'><tt><strong>torch.nn.Conv2d()</strong></tt></a><br><br>The first layer has one input channel (the grayscale color channel). We'll assign 6 output channels for feature extraction. We'll set our kernel size to 3 to make a 3x3 filter, and set the step size to 1.<br>\n",
    "<tt><font color=white>&nbsp;&nbsp;&nbsp;&nbsp;self.conv1 = nn.Conv2d(1, 6, 3, 1)</font></tt><br>\n",
    "The second layer will take our 6 input channels and deliver 16 output channels.<br>\n",
    "<tt><font color=white>&nbsp;&nbsp;&nbsp;&nbsp;self.conv2 = nn.Conv2d(6, 16, 3, 1)</font></tt><br><br>\n",
    "\n",
    "3. Set up the fully connected layers with <a href='https://pytorch.org/docs/stable/nn.html#linear'><tt><strong>torch.nn.Linear()</strong></tt></a>.<br><br>The input size of (5x5x16) is determined by the effect of our kernels on the input image size. A 3x3 filter applied to a 28x28 image leaves a 1-pixel edge on all four sides. In one layer the size changes from 28x28 to 26x26. We could address this with zero-padding, but since an MNIST image is mostly black at the edges, we should be safe ignoring these pixels. We'll apply the kernel twice, and apply pooling layers twice, so our resulting output will be \n",
    "$\\;(((28-2)/2)-2)/2 = 5.5\\;$ which rounds down to 5 pixels per side.<br>\n",
    "<tt><font color=white>&nbsp;&nbsp;&nbsp;&nbsp;self.fc1 = nn.Linear(5\\*5\\*16, 120)</font></tt><br>\n",
    "<tt><font color=white>&nbsp;&nbsp;&nbsp;&nbsp;self.fc2 = nn.Linear(120, 84)</font></tt><br>\n",
    "<tt><font color=white>&nbsp;&nbsp;&nbsp;&nbsp;self.fc3 = nn.Linear(84, 10)</font></tt><br>\n",
    "See below for a more detailed look at this step.<br><br>\n",
    "\n",
    "4. Define the forward method.<br><br>Activations can be applied to the convolutions in one line using <a href='https://pytorch.org/docs/stable/nn.html#id27'><tt><strong>F.relu()</strong></tt></a> and pooling is done using <a href='https://pytorch.org/docs/stable/nn.html#maxpool2d'><tt><strong>F.max_pool2d()</strong></tt></a><br>\n",
    "<tt><font color=white>def forward(self, X):<br>\n",
    "&nbsp;&nbsp;&nbsp;&nbsp;X = F.relu(self.conv1(X))<br>\n",
    "&nbsp;&nbsp;&nbsp;&nbsp;X = F.max_pool2d(X, 2, 2)<br>\n",
    "&nbsp;&nbsp;&nbsp;&nbsp;X = F.relu(self.conv2(X))<br>\n",
    "&nbsp;&nbsp;&nbsp;&nbsp;X = F.max_pool2d(X, 2, 2)<br>\n",
    "</font></tt>Flatten the data for the fully connected layers:<br><tt><font color=white>\n",
    "&nbsp;&nbsp;&nbsp;&nbsp;X = X.view(-1, 5\\*5\\*16)<br>\n",
    "&nbsp;&nbsp;&nbsp;&nbsp;X = F.relu(self.fc1(X))<br>\n",
    "&nbsp;&nbsp;&nbsp;&nbsp;X = self.fc2(X)<br>\n",
    "&nbsp;&nbsp;&nbsp;&nbsp;return F.log_softmax(X, dim=1)</font></tt>\n",
    "</div>"
   ]
  },
  {
   "cell_type": "markdown",
   "metadata": {},
   "source": [
    "<div class=\"alert alert-danger\"><strong>Breaking down the convolutional layers</strong> (this code is for illustration purposes only.)</div>"
   ]
  },
  {
   "cell_type": "markdown",
   "metadata": {},
   "source": [
    "<img src =\"figures/cnnmodel.jpg\" width=\"1500\">"
   ]
  },
  {
   "cell_type": "code",
   "execution_count": 9,
   "metadata": {},
   "outputs": [],
   "source": [
    "class ConvolutionalNetwork(nn.Module):\n",
    "    def __init__(self):\n",
    "        super().__init__()\n",
    "        self.conv1 = nn.Conv2d(1, 6, 3, 1)\n",
    "        self.conv2 = nn.Conv2d(6, 16, 3, 1)\n",
    "        self.fc1 = nn.Linear(5*5*16, 120)\n",
    "        self.fc2 = nn.Linear(120, 84)\n",
    "        self.fc3 = nn.Linear(84,10)\n",
    "\n",
    "    def forward(self, X):\n",
    "        X = F.relu(self.conv1(X))\n",
    "        X = F.max_pool2d(X, 2, 2)\n",
    "        X = F.relu(self.conv2(X))\n",
    "        X = F.max_pool2d(X, 2, 2)\n",
    "        X = X.view(-1, 5*5*16) \n",
    "        X = F.relu(self.fc1(X))\n",
    "        X = F.relu(self.fc2(X))\n",
    "        X = self.fc3(X)\n",
    "        return X"
   ]
  },
  {
   "cell_type": "code",
   "execution_count": 16,
   "metadata": {},
   "outputs": [],
   "source": [
    "# Define layers\n",
    "conv1 = nn.Conv2d(1, 6, 3, 1)\n",
    "conv2 = nn.Conv2d(6, 16, 3, 1)"
   ]
  },
  {
   "cell_type": "code",
   "execution_count": 17,
   "metadata": {},
   "outputs": [
    {
     "data": {
      "text/plain": [
       "torch.Size([1, 28, 28])"
      ]
     },
     "execution_count": 17,
     "metadata": {},
     "output_type": "execute_result"
    }
   ],
   "source": [
    "# Grab the first MNIST record\n",
    "for i, (X_train, y_train) in enumerate(train_data):\n",
    "    break\n",
    "    \n",
    "X_train.shape    "
   ]
  },
  {
   "cell_type": "code",
   "execution_count": 18,
   "metadata": {},
   "outputs": [
    {
     "name": "stdout",
     "output_type": "stream",
     "text": [
      "torch.Size([1, 1, 28, 28])\n"
     ]
    },
    {
     "data": {
      "text/plain": [
       "<matplotlib.image.AxesImage at 0x2419dc600a0>"
      ]
     },
     "execution_count": 18,
     "metadata": {},
     "output_type": "execute_result"
    },
    {
     "data": {
      "image/png": "[encoded data removed]",
      "text/plain": [
       "<Figure size 432x288 with 1 Axes>"
      ]
     },
     "metadata": {
      "needs_background": "light"
     },
     "output_type": "display_data"
    }
   ],
   "source": [
    "# Create a rank-4 tensor to be passed into the model\n",
    "# (train_loader will have done this already)\n",
    "\n",
    "# (B, C, H, W)\n",
    "x = X_train.view(1,1,28,28)\n",
    "print(x.shape)\n",
    "\n",
    "image = x[0, 0, :, :]\n",
    "plt.imshow(image)"
   ]
  },
  {
   "cell_type": "code",
   "execution_count": 19,
   "metadata": {},
   "outputs": [
    {
     "name": "stdout",
     "output_type": "stream",
     "text": [
      "torch.Size([1, 6, 26, 26])\n"
     ]
    },
    {
     "data": {
      "text/plain": [
       "<matplotlib.image.AxesImage at 0x2419fcd1190>"
      ]
     },
     "execution_count": 19,
     "metadata": {},
     "output_type": "execute_result"
    },
    {
     "data": {
      "image/png": "[encoded data removed]",
      "text/plain": [
       "<Figure size 432x288 with 1 Axes>"
      ]
     },
     "metadata": {
      "needs_background": "light"
     },
     "output_type": "display_data"
    }
   ],
   "source": [
    "# Perform the first convolution/activation\n",
    "x = F.relu(conv1(x))\n",
    "print(x.shape)\n",
    "\n",
    "image = x[0, 0, :, :].detach().numpy()\n",
    "plt.imshow(image)"
   ]
  },
  {
   "cell_type": "code",
   "execution_count": 20,
   "metadata": {},
   "outputs": [
    {
     "name": "stdout",
     "output_type": "stream",
     "text": [
      "torch.Size([1, 6, 13, 13])\n"
     ]
    },
    {
     "data": {
      "text/plain": [
       "<matplotlib.image.AxesImage at 0x2419fd37280>"
      ]
     },
     "execution_count": 20,
     "metadata": {},
     "output_type": "execute_result"
    },
    {
     "data": {
      "image/png": "[encoded data removed]",
      "text/plain": [
       "<Figure size 432x288 with 1 Axes>"
      ]
     },
     "metadata": {
      "needs_background": "light"
     },
     "output_type": "display_data"
    }
   ],
   "source": [
    "# Run the first pooling layer\n",
    "x = F.max_pool2d(x, 2, 2)\n",
    "print(x.shape)\n",
    "\n",
    "image = x[0, 0, :, :].detach().numpy()\n",
    "plt.imshow(image)"
   ]
  },
  {
   "cell_type": "code",
   "execution_count": 21,
   "metadata": {},
   "outputs": [
    {
     "name": "stdout",
     "output_type": "stream",
     "text": [
      "torch.Size([1, 16, 11, 11])\n"
     ]
    },
    {
     "data": {
      "text/plain": [
       "<matplotlib.image.AxesImage at 0x2419fd96d90>"
      ]
     },
     "execution_count": 21,
     "metadata": {},
     "output_type": "execute_result"
    },
    {
     "data": {
      "image/png": "[encoded data removed]",
      "text/plain": [
       "<Figure size 432x288 with 1 Axes>"
      ]
     },
     "metadata": {
      "needs_background": "light"
     },
     "output_type": "display_data"
    }
   ],
   "source": [
    "# Perform the second convolution/activation\n",
    "x = F.relu(conv2(x))\n",
    "print(x.shape)\n",
    "\n",
    "image = x[0, 0, :, :].detach().numpy()\n",
    "plt.imshow(image)"
   ]
  },
  {
   "cell_type": "code",
   "execution_count": 22,
   "metadata": {},
   "outputs": [
    {
     "name": "stdout",
     "output_type": "stream",
     "text": [
      "torch.Size([1, 16, 5, 5])\n"
     ]
    },
    {
     "data": {
      "text/plain": [
       "<matplotlib.image.AxesImage at 0x2419ff7a070>"
      ]
     },
     "execution_count": 22,
     "metadata": {},
     "output_type": "execute_result"
    },
    {
     "data": {
      "image/png": "[encoded data removed]",
      "text/plain": [
       "<Figure size 432x288 with 1 Axes>"
      ]
     },
     "metadata": {
      "needs_background": "light"
     },
     "output_type": "display_data"
    }
   ],
   "source": [
    "# Run the second pooling layer\n",
    "x = F.max_pool2d(x, 2, 2)\n",
    "print(x.shape)\n",
    "\n",
    "image = x[0, 0, :, :].detach().numpy()\n",
    "plt.imshow(image)"
   ]
  },
  {
   "cell_type": "code",
   "execution_count": 23,
   "metadata": {},
   "outputs": [
    {
     "name": "stdout",
     "output_type": "stream",
     "text": [
      "torch.Size([1, 400])\n"
     ]
    },
    {
     "data": {
      "text/plain": [
       "<matplotlib.image.AxesImage at 0x2419ffe01f0>"
      ]
     },
     "execution_count": 23,
     "metadata": {},
     "output_type": "execute_result"
    },
    {
     "data": {
      "image/png": "[encoded data removed]",
      "text/plain": [
       "<Figure size 432x288 with 1 Axes>"
      ]
     },
     "metadata": {
      "needs_background": "light"
     },
     "output_type": "display_data"
    }
   ],
   "source": [
    "# Flatten the data\n",
    "x = x.view(-1, 5*5*16)\n",
    "print(x.shape)\n",
    "\n",
    "image = x.detach().numpy()\n",
    "plt.imshow(image)"
   ]
  },
  {
   "cell_type": "markdown",
   "metadata": {},
   "source": [
    "<div class=\"alert alert-danger\"><strong>This is how the convolution output is passed into the fully connected layers.</strong></div>\n",
    "\n",
    "Now let's run the code."
   ]
  },
  {
   "cell_type": "code",
   "execution_count": 25,
   "metadata": {},
   "outputs": [],
   "source": [
    "# This model is just similar above\n",
    "class ConvolutionalNetwork(nn.Module):\n",
    "    def __init__(self):\n",
    "        super().__init__()\n",
    "        self.conv1 = nn.Conv2d(1, 6, 3, 1)\n",
    "        self.conv2 = nn.Conv2d(6, 16, 3, 1)\n",
    "        self.fc1 = nn.Linear(5*5*16, 120)\n",
    "        self.fc2 = nn.Linear(120, 84)\n",
    "        self.fc3 = nn.Linear(84,10)\n",
    "\n",
    "    def forward(self, X):\n",
    "        X = F.relu(self.conv1(X))\n",
    "        X = F.max_pool2d(X, 2, 2)\n",
    "        X = F.relu(self.conv2(X))\n",
    "        X = F.max_pool2d(X, 2, 2)\n",
    "        X = X.view(-1, 5*5*16)\n",
    "        X = F.relu(self.fc1(X))\n",
    "        X = F.relu(self.fc2(X))\n",
    "        X = self.fc3(X)\n",
    "        return X"
   ]
  },
  {
   "cell_type": "code",
   "execution_count": 26,
   "metadata": {},
   "outputs": [
    {
     "data": {
      "text/plain": [
       "ConvolutionalNetwork(\n",
       "  (conv1): Conv2d(1, 6, kernel_size=(3, 3), stride=(1, 1))\n",
       "  (conv2): Conv2d(6, 16, kernel_size=(3, 3), stride=(1, 1))\n",
       "  (fc1): Linear(in_features=400, out_features=120, bias=True)\n",
       "  (fc2): Linear(in_features=120, out_features=84, bias=True)\n",
       "  (fc3): Linear(in_features=84, out_features=10, bias=True)\n",
       ")"
      ]
     },
     "execution_count": 26,
     "metadata": {},
     "output_type": "execute_result"
    }
   ],
   "source": [
    "torch.manual_seed(42)\n",
    "model = ConvolutionalNetwork()\n",
    "model"
   ]
  },
  {
   "cell_type": "markdown",
   "metadata": {},
   "source": [
    "Including the bias terms for each layer, the total number of parameters being trained is:<br>\n",
    "\n",
    "$\\quad\\begin{align}(1\\times6\\times3\\times3)+6+(6\\times16\\times3\\times3)+16+(400\\times120)+120+(120\\times84)+84+(84\\times10)+10 &=\\\\\n",
    "54+6+864+16+48000+120+10080+84+840+10 &= 60,074\\end{align}$<br>"
   ]
  },
  {
   "cell_type": "code",
   "execution_count": 27,
   "metadata": {},
   "outputs": [],
   "source": [
    "def count_parameters(model):\n",
    "    params = [p.numel() for p in model.parameters() if p.requires_grad]\n",
    "    for item in params:\n",
    "        print(f'{item:>6}')\n",
    "    print(f'______\\n{sum(params):>6}')"
   ]
  },
  {
   "cell_type": "code",
   "execution_count": 28,
   "metadata": {},
   "outputs": [
    {
     "name": "stdout",
     "output_type": "stream",
     "text": [
      "    54\n",
      "     6\n",
      "   864\n",
      "    16\n",
      " 48000\n",
      "   120\n",
      " 10080\n",
      "    84\n",
      "   840\n",
      "    10\n",
      "______\n",
      " 60074\n"
     ]
    }
   ],
   "source": [
    "count_parameters(model)"
   ]
  },
  {
   "cell_type": "code",
   "execution_count": 29,
   "metadata": {},
   "outputs": [
    {
     "name": "stdout",
     "output_type": "stream",
     "text": [
      "Parameter containing:\n",
      "tensor([[[[ 0.2548,  0.2767, -0.0781],\n",
      "          [ 0.3062, -0.0730,  0.0673],\n",
      "          [-0.1623,  0.1958,  0.2938]]],\n",
      "\n",
      "\n",
      "        [[[-0.2445,  0.2897,  0.0624],\n",
      "          [ 0.2463,  0.0451,  0.1607],\n",
      "          [-0.0471,  0.2570,  0.0493]]],\n",
      "\n",
      "\n",
      "        [[[-0.1556,  0.0850, -0.1536],\n",
      "          [-0.0391, -0.1354,  0.2211],\n",
      "          [-0.2631, -0.1537, -0.0941]]],\n",
      "\n",
      "\n",
      "        [[[-0.2004,  0.0315, -0.3292],\n",
      "          [ 0.3010, -0.2832,  0.2573],\n",
      "          [ 0.0555, -0.1082,  0.2060]]],\n",
      "\n",
      "\n",
      "        [[[ 0.0520,  0.2693,  0.0364],\n",
      "          [-0.1051,  0.0896, -0.0904],\n",
      "          [ 0.1403,  0.2976,  0.1927]]],\n",
      "\n",
      "\n",
      "        [[[-0.1457,  0.1924,  0.0596],\n",
      "          [ 0.1693, -0.2032, -0.3300],\n",
      "          [-0.1288, -0.2557,  0.2735]]]], requires_grad=True)\n",
      "Parameter containing:\n",
      "tensor([ 0.0960,  0.1381,  0.1054, -0.0058,  0.2609, -0.2368],\n",
      "       requires_grad=True)\n",
      "Parameter containing:\n",
      "tensor([[[[ 0.0086, -0.0929,  0.0420],\n",
      "          [-0.0469,  0.0417, -0.0284],\n",
      "          [ 0.1129, -0.0807, -0.0812]],\n",
      "\n",
      "         [[-0.0812,  0.1224,  0.0453],\n",
      "          [ 0.1309, -0.1123, -0.1350],\n",
      "          [-0.1065, -0.0915,  0.0551]],\n",
      "\n",
      "         [[ 0.0487,  0.1131, -0.0703],\n",
      "          [-0.0928,  0.0722, -0.0550],\n",
      "          [ 0.0826, -0.0323,  0.0778]],\n",
      "\n",
      "         [[-0.1057, -0.0687,  0.0415],\n",
      "          [ 0.0288, -0.0347,  0.0811],\n",
      "          [ 0.0925, -0.0987, -0.0727]],\n",
      "\n",
      "         [[ 0.1246, -0.0459, -0.0482],\n",
      "          [-0.1317, -0.0779,  0.0340],\n",
      "          [-0.0180, -0.0988,  0.0032]],\n",
      "\n",
      "         [[-0.0930, -0.1155, -0.0749],\n",
      "          [-0.1191, -0.0866,  0.1360],\n",
      "          [ 0.0257,  0.0419, -0.1269]]],\n",
      "\n",
      "\n",
      "        [[[-0.0894, -0.0453,  0.0213],\n",
      "          [-0.1197, -0.0586, -0.0815],\n",
      "          [ 0.0004, -0.0506, -0.0094]],\n",
      "\n",
      "         [[-0.0922, -0.0934, -0.0794],\n",
      "          [-0.0466, -0.1074,  0.1141],\n",
      "          [-0.0270,  0.1171,  0.0424]],\n",
      "\n",
      "         [[-0.1152,  0.0942, -0.0374],\n",
      "          [-0.0522, -0.1130, -0.1353],\n",
      "          [ 0.0389, -0.0297,  0.0530]],\n",
      "\n",
      "         [[-0.1117,  0.1010, -0.0999],\n",
      "          [-0.0235,  0.0284,  0.0703],\n",
      "          [ 0.1099,  0.1240, -0.1079]],\n",
      "\n",
      "         [[ 0.0342, -0.0585, -0.0149],\n",
      "          [-0.1019,  0.1240, -0.0999],\n",
      "          [ 0.0727,  0.0478,  0.0442]],\n",
      "\n",
      "         [[-0.0736,  0.1237,  0.0299],\n",
      "          [ 0.0175, -0.1199,  0.0571],\n",
      "          [-0.0204, -0.0623,  0.1169]]],\n",
      "\n",
      "\n",
      "        [[[ 0.0303, -0.0753, -0.0689],\n",
      "          [-0.0065,  0.0760, -0.0348],\n",
      "          [-0.0776, -0.0466, -0.1017]],\n",
      "\n",
      "         [[ 0.0485,  0.1053, -0.1281],\n",
      "          [ 0.0316,  0.0703,  0.0247],\n",
      "          [-0.0485,  0.0710,  0.0715]],\n",
      "\n",
      "         [[ 0.0509, -0.0239, -0.0360],\n",
      "          [ 0.0146, -0.0240, -0.0406],\n",
      "          [ 0.0870,  0.1169, -0.0135]],\n",
      "\n",
      "         [[-0.0305,  0.0020, -0.0081],\n",
      "          [ 0.0327,  0.0381, -0.1236],\n",
      "          [-0.0502,  0.1146,  0.0530]],\n",
      "\n",
      "         [[-0.0068, -0.0820, -0.0833],\n",
      "          [-0.1219, -0.0444,  0.0460],\n",
      "          [ 0.0868,  0.0628, -0.1203]],\n",
      "\n",
      "         [[-0.0818, -0.0215,  0.1316],\n",
      "          [ 0.0197, -0.0352,  0.0563],\n",
      "          [-0.0518, -0.0881,  0.0993]]],\n",
      "\n",
      "\n",
      "        [[[-0.0619, -0.0273, -0.1354],\n",
      "          [ 0.0911,  0.1031,  0.0496],\n",
      "          [-0.0949, -0.1343, -0.1105]],\n",
      "\n",
      "         [[ 0.1015,  0.0653,  0.1145],\n",
      "          [ 0.0713,  0.0344, -0.0013],\n",
      "          [-0.1035, -0.1166, -0.1273]],\n",
      "\n",
      "         [[ 0.0557, -0.0668, -0.0274],\n",
      "          [-0.0783, -0.0248, -0.0958],\n",
      "          [-0.0889,  0.0451, -0.0404]],\n",
      "\n",
      "         [[ 0.0840, -0.0437, -0.0998],\n",
      "          [-0.0240, -0.0660, -0.0416],\n",
      "          [-0.1296,  0.0761, -0.0947]],\n",
      "\n",
      "         [[ 0.0684,  0.0618,  0.0972],\n",
      "          [-0.1044,  0.0979, -0.0643],\n",
      "          [ 0.0505,  0.1278, -0.0192]],\n",
      "\n",
      "         [[-0.0011, -0.0313, -0.1136],\n",
      "          [ 0.0653, -0.1351,  0.0845],\n",
      "          [ 0.1018,  0.1287, -0.0321]]],\n",
      "\n",
      "\n",
      "        [[[-0.1118,  0.0306,  0.0752],\n",
      "          [-0.1354, -0.0309, -0.0816],\n",
      "          [-0.0119, -0.0670, -0.0556]],\n",
      "\n",
      "         [[-0.0432, -0.1293,  0.1117],\n",
      "          [ 0.1141, -0.0213, -0.0155],\n",
      "          [-0.0555, -0.1229, -0.1324]],\n",
      "\n",
      "         [[ 0.0506, -0.0747, -0.0875],\n",
      "          [-0.0106, -0.0453, -0.0440],\n",
      "          [ 0.0044, -0.0289, -0.0469]],\n",
      "\n",
      "         [[-0.0652, -0.1107,  0.1141],\n",
      "          [-0.0545,  0.0361, -0.0472],\n",
      "          [ 0.0111,  0.1269,  0.0627]],\n",
      "\n",
      "         [[-0.1179,  0.0540,  0.1292],\n",
      "          [ 0.0358,  0.0912,  0.1342],\n",
      "          [-0.0209,  0.0282, -0.0946]],\n",
      "\n",
      "         [[-0.0280,  0.1008,  0.0698],\n",
      "          [-0.0861, -0.1091, -0.0930],\n",
      "          [-0.1343, -0.1050, -0.0337]]],\n",
      "\n",
      "\n",
      "        [[[ 0.0918,  0.0228, -0.1035],\n",
      "          [-0.1092,  0.0677, -0.1012],\n",
      "          [-0.0168,  0.0653, -0.0630]],\n",
      "\n",
      "         [[-0.0148, -0.0118, -0.0322],\n",
      "          [-0.0690, -0.1213, -0.1100],\n",
      "          [-0.0729,  0.1314, -0.0657]],\n",
      "\n",
      "         [[-0.0914,  0.0330,  0.0375],\n",
      "          [ 0.0746,  0.1034,  0.0758],\n",
      "          [-0.1349,  0.0121,  0.0824]],\n",
      "\n",
      "         [[-0.0126, -0.0802,  0.1297],\n",
      "          [-0.0509, -0.0775, -0.1227],\n",
      "          [ 0.0061,  0.0603,  0.0301]],\n",
      "\n",
      "         [[ 0.0269, -0.1032, -0.1271],\n",
      "          [ 0.0024,  0.1241,  0.0785],\n",
      "          [-0.0792, -0.0177, -0.1003]],\n",
      "\n",
      "         [[-0.0656,  0.0246,  0.0741],\n",
      "          [ 0.1127, -0.1249,  0.0910],\n",
      "          [-0.0960,  0.0510,  0.1152]]],\n",
      "\n",
      "\n",
      "        [[[ 0.0019,  0.1238, -0.1159],\n",
      "          [-0.0520,  0.0794, -0.0296],\n",
      "          [-0.0279, -0.0567,  0.0938]],\n",
      "\n",
      "         [[ 0.0667,  0.0436, -0.0765],\n",
      "          [-0.1105,  0.0147,  0.0403],\n",
      "          [-0.0628, -0.0381,  0.0919]],\n",
      "\n",
      "         [[ 0.0108,  0.0061, -0.0335],\n",
      "          [-0.1232, -0.1280, -0.0650],\n",
      "          [-0.0692,  0.0424, -0.0396]],\n",
      "\n",
      "         [[-0.0532,  0.1297,  0.0474],\n",
      "          [ 0.0970, -0.0659, -0.0556],\n",
      "          [ 0.0500, -0.0907, -0.0890]],\n",
      "\n",
      "         [[-0.0066, -0.0498, -0.1020],\n",
      "          [ 0.0807,  0.1094,  0.0221],\n",
      "          [-0.0237, -0.1260, -0.0496]],\n",
      "\n",
      "         [[ 0.0346,  0.0642, -0.0172],\n",
      "          [-0.0538,  0.0758, -0.1084],\n",
      "          [ 0.0860, -0.0528,  0.0021]]],\n",
      "\n",
      "\n",
      "        [[[-0.0269,  0.0165, -0.0411],\n",
      "          [ 0.0989, -0.0035,  0.1062],\n",
      "          [ 0.1308, -0.0663, -0.0993]],\n",
      "\n",
      "         [[ 0.1092,  0.1066, -0.1039],\n",
      "          [-0.0105, -0.1342, -0.1114],\n",
      "          [ 0.0263,  0.0362,  0.0288]],\n",
      "\n",
      "         [[-0.0370,  0.1255,  0.0195],\n",
      "          [-0.0803, -0.0077,  0.0327],\n",
      "          [ 0.0477, -0.0962,  0.0510]],\n",
      "\n",
      "         [[-0.0695, -0.1131, -0.0743],\n",
      "          [ 0.1312,  0.1163,  0.1219],\n",
      "          [ 0.0799,  0.1028, -0.0182]],\n",
      "\n",
      "         [[-0.0749,  0.0680, -0.0705],\n",
      "          [-0.0918, -0.0435,  0.0286],\n",
      "          [ 0.0701, -0.0529, -0.0801]],\n",
      "\n",
      "         [[ 0.0184, -0.0802, -0.0886],\n",
      "          [ 0.0709, -0.0229,  0.1244],\n",
      "          [ 0.1324,  0.0407,  0.0468]]],\n",
      "\n",
      "\n",
      "        [[[ 0.0313,  0.0021, -0.0099],\n",
      "          [ 0.0019,  0.0508,  0.1265],\n",
      "          [-0.0353, -0.0575, -0.0330]],\n",
      "\n",
      "         [[-0.0657,  0.0231,  0.1016],\n",
      "          [ 0.1064,  0.0625, -0.1001],\n",
      "          [-0.0730, -0.0299, -0.0251]],\n",
      "\n",
      "         [[ 0.0112, -0.1249,  0.0424],\n",
      "          [-0.1038, -0.0861, -0.1131],\n",
      "          [ 0.1186, -0.1289,  0.1027]],\n",
      "\n",
      "         [[-0.0046, -0.0158,  0.0851],\n",
      "          [-0.0126,  0.0853,  0.0984],\n",
      "          [-0.1181,  0.0524,  0.0257]],\n",
      "\n",
      "         [[ 0.0293,  0.0199,  0.0372],\n",
      "          [-0.0655, -0.0174,  0.1293],\n",
      "          [ 0.0914, -0.0051, -0.1280]],\n",
      "\n",
      "         [[ 0.0060, -0.0927,  0.1107],\n",
      "          [-0.0826, -0.0098, -0.0302],\n",
      "          [ 0.0242,  0.1281,  0.0129]]],\n",
      "\n",
      "\n",
      "        [[[ 0.0788,  0.1056,  0.1099],\n",
      "          [-0.0470, -0.0304,  0.0656],\n",
      "          [-0.0371,  0.0637, -0.0297]],\n",
      "\n",
      "         [[-0.0923,  0.0554,  0.0209],\n",
      "          [ 0.0607,  0.1352,  0.0929],\n",
      "          [ 0.1290,  0.0073, -0.1171]],\n",
      "\n",
      "         [[-0.0955, -0.0845, -0.1199],\n",
      "          [-0.0682, -0.1253, -0.1256],\n",
      "          [-0.0813, -0.1342, -0.0835]],\n",
      "\n",
      "         [[ 0.0519,  0.1135, -0.0405],\n",
      "          [-0.0396,  0.0727, -0.0671],\n",
      "          [-0.0643,  0.0838, -0.1186]],\n",
      "\n",
      "         [[ 0.0166,  0.1202,  0.0233],\n",
      "          [ 0.0370, -0.0793, -0.0019],\n",
      "          [ 0.0075,  0.0334,  0.0529]],\n",
      "\n",
      "         [[ 0.1182, -0.1039,  0.0041],\n",
      "          [-0.0680, -0.1077, -0.0109],\n",
      "          [-0.1198,  0.0950,  0.0158]]],\n",
      "\n",
      "\n",
      "        [[[-0.0733,  0.0711, -0.1288],\n",
      "          [-0.0526, -0.0265, -0.1156],\n",
      "          [-0.0865, -0.0222,  0.1033]],\n",
      "\n",
      "         [[ 0.1314,  0.0866, -0.0813],\n",
      "          [-0.0890,  0.1188,  0.0481],\n",
      "          [ 0.0036,  0.0184, -0.1094]],\n",
      "\n",
      "         [[-0.0454,  0.1310, -0.0336],\n",
      "          [-0.0068, -0.1130, -0.0761],\n",
      "          [-0.0028, -0.0845, -0.0169]],\n",
      "\n",
      "         [[ 0.0554, -0.1331,  0.0404],\n",
      "          [-0.0900, -0.0664,  0.0522],\n",
      "          [ 0.1082, -0.0372, -0.0559]],\n",
      "\n",
      "         [[-0.1231, -0.0702, -0.1192],\n",
      "          [-0.0311,  0.0278, -0.1275],\n",
      "          [ 0.1188,  0.0854, -0.1332]],\n",
      "\n",
      "         [[-0.0650,  0.0444, -0.0280],\n",
      "          [-0.0148, -0.0614,  0.1093],\n",
      "          [-0.0761,  0.1129,  0.0088]]],\n",
      "\n",
      "\n",
      "        [[[ 0.0274,  0.1062, -0.0224],\n",
      "          [-0.0775, -0.0220,  0.1104],\n",
      "          [-0.1010,  0.0309, -0.1337]],\n",
      "\n",
      "         [[ 0.0713,  0.0503,  0.0058],\n",
      "          [ 0.0584,  0.0002,  0.0753],\n",
      "          [-0.1077, -0.0200,  0.0604]],\n",
      "\n",
      "         [[ 0.1355,  0.0693, -0.0990],\n",
      "          [ 0.1047, -0.0303, -0.0291],\n",
      "          [-0.1237, -0.0214,  0.0963]],\n",
      "\n",
      "         [[ 0.0190, -0.0793,  0.0419],\n",
      "          [-0.0436,  0.1242, -0.1181],\n",
      "          [-0.0430, -0.1314, -0.0536]],\n",
      "\n",
      "         [[ 0.0429,  0.1310,  0.0229],\n",
      "          [ 0.1334,  0.0266,  0.0786],\n",
      "          [ 0.1091,  0.1138, -0.0762]],\n",
      "\n",
      "         [[ 0.1251,  0.0824, -0.0636],\n",
      "          [-0.0649, -0.1141,  0.0342],\n",
      "          [-0.1103,  0.0575,  0.0430]]],\n",
      "\n",
      "\n",
      "        [[[-0.1182,  0.0371, -0.0111],\n",
      "          [ 0.0622,  0.0781, -0.1353],\n",
      "          [ 0.1248,  0.1141,  0.0541]],\n",
      "\n",
      "         [[-0.1244, -0.0486, -0.0394],\n",
      "          [-0.0350,  0.0767,  0.0495],\n",
      "          [ 0.1078, -0.0510,  0.0458]],\n",
      "\n",
      "         [[ 0.0484, -0.1133, -0.1320],\n",
      "          [-0.0706,  0.0932, -0.1281],\n",
      "          [-0.1185,  0.0762,  0.0734]],\n",
      "\n",
      "         [[ 0.1119, -0.1027, -0.0996],\n",
      "          [ 0.0698,  0.1183,  0.0814],\n",
      "          [ 0.0213,  0.0448,  0.1292]],\n",
      "\n",
      "         [[-0.0878, -0.0618,  0.0952],\n",
      "          [-0.0931, -0.0750,  0.0993],\n",
      "          [ 0.0429,  0.0440, -0.0577]],\n",
      "\n",
      "         [[-0.0019,  0.1245, -0.0817],\n",
      "          [ 0.0011,  0.0647, -0.0939],\n",
      "          [ 0.1322, -0.0680, -0.0327]]],\n",
      "\n",
      "\n",
      "        [[[-0.0368, -0.0887, -0.1335],\n",
      "          [ 0.0767,  0.0362, -0.1275],\n",
      "          [-0.0876,  0.1345,  0.0520]],\n",
      "\n",
      "         [[ 0.0546, -0.0814, -0.0597],\n",
      "          [-0.0205, -0.0249, -0.0933],\n",
      "          [ 0.0112,  0.0135, -0.0172]],\n",
      "\n",
      "         [[ 0.0189, -0.0539,  0.0354],\n",
      "          [ 0.0513, -0.0717, -0.1349],\n",
      "          [ 0.0712,  0.0325, -0.0692]],\n",
      "\n",
      "         [[ 0.1311, -0.0615,  0.0920],\n",
      "          [ 0.0690, -0.1141,  0.0878],\n",
      "          [-0.1251, -0.0754, -0.0227]],\n",
      "\n",
      "         [[-0.0917,  0.1329, -0.0273],\n",
      "          [ 0.0541, -0.1215,  0.0783],\n",
      "          [-0.0423, -0.1035,  0.0199]],\n",
      "\n",
      "         [[ 0.0659,  0.1178, -0.0831],\n",
      "          [-0.0670,  0.0262,  0.0369],\n",
      "          [ 0.0523,  0.0747, -0.0309]]],\n",
      "\n",
      "\n",
      "        [[[ 0.0756,  0.1003, -0.0355],\n",
      "          [ 0.0968,  0.0665,  0.1200],\n",
      "          [-0.0773, -0.0672, -0.0393]],\n",
      "\n",
      "         [[ 0.0069,  0.0817, -0.0777],\n",
      "          [ 0.0681, -0.0488,  0.0822],\n",
      "          [-0.0065, -0.1192, -0.0749]],\n",
      "\n",
      "         [[-0.0985,  0.0675, -0.0913],\n",
      "          [-0.0113,  0.0294, -0.0746],\n",
      "          [ 0.0393, -0.1329, -0.0974]],\n",
      "\n",
      "         [[-0.1233, -0.0412, -0.0496],\n",
      "          [ 0.0195, -0.0252,  0.0640],\n",
      "          [ 0.1248,  0.0488, -0.0536]],\n",
      "\n",
      "         [[-0.1274,  0.0493, -0.0674],\n",
      "          [ 0.0692,  0.0910,  0.0525],\n",
      "          [ 0.1277,  0.1293,  0.0288]],\n",
      "\n",
      "         [[-0.0992,  0.1216, -0.0646],\n",
      "          [-0.0643,  0.1139,  0.1054],\n",
      "          [ 0.0411,  0.0085, -0.1145]]],\n",
      "\n",
      "\n",
      "        [[[-0.0141,  0.1305,  0.0347],\n",
      "          [ 0.0117, -0.0283, -0.0475],\n",
      "          [ 0.0811,  0.0084,  0.0885]],\n",
      "\n",
      "         [[-0.0241,  0.0595,  0.0562],\n",
      "          [ 0.0217,  0.0855,  0.0853],\n",
      "          [ 0.1261,  0.1046, -0.0348]],\n",
      "\n",
      "         [[-0.1152,  0.0249, -0.0012],\n",
      "          [-0.0355, -0.0228,  0.0064],\n",
      "          [ 0.0993,  0.0424, -0.0483]],\n",
      "\n",
      "         [[-0.0560, -0.0337, -0.0526],\n",
      "          [ 0.1224,  0.0721,  0.1229],\n",
      "          [ 0.0004,  0.0274,  0.0472]],\n",
      "\n",
      "         [[-0.1288,  0.0122, -0.0091],\n",
      "          [-0.0763, -0.1056,  0.1205],\n",
      "          [ 0.1106,  0.0631,  0.1299]],\n",
      "\n",
      "         [[-0.0552, -0.0235,  0.0515],\n",
      "          [-0.0225, -0.0267, -0.1125],\n",
      "          [ 0.0366, -0.0822,  0.0049]]]], requires_grad=True)\n",
      "Parameter containing:\n",
      "tensor([ 0.1327, -0.0419, -0.0429,  0.0821, -0.0500, -0.0117,  0.1271, -0.0558,\n",
      "        -0.0974, -0.0762, -0.0377, -0.0646, -0.0706,  0.0550,  0.0231, -0.0436],\n",
      "       requires_grad=True)\n",
      "Parameter containing:\n",
      "tensor([[-3.8846e-02, -1.5743e-02, -2.1102e-02,  ..., -7.6693e-05,\n",
      "          4.8436e-02, -1.9859e-02],\n",
      "        [-1.1636e-02, -2.5271e-02,  7.1948e-03,  ..., -1.7114e-02,\n",
      "         -2.9444e-02,  3.3103e-02],\n",
      "        [ 6.7186e-03,  2.0927e-02, -1.8936e-02,  ..., -4.6726e-02,\n",
      "          3.3182e-03, -1.7761e-02],\n",
      "        ...,\n",
      "        [-4.3866e-02,  3.7438e-02, -4.2277e-02,  ...,  4.5558e-02,\n",
      "          2.3612e-02, -4.4892e-02],\n",
      "        [ 1.6117e-02,  1.6008e-02,  2.6415e-02,  ..., -3.6400e-02,\n",
      "          1.4238e-02,  3.9001e-02],\n",
      "        [-1.7557e-02, -2.1580e-02,  4.0183e-02,  ...,  5.0929e-03,\n",
      "          4.3303e-02, -4.1396e-02]], requires_grad=True)\n",
      "Parameter containing:\n",
      "tensor([ 0.0400, -0.0132, -0.0299, -0.0310,  0.0312,  0.0441,  0.0343, -0.0473,\n",
      "        -0.0008,  0.0072,  0.0363, -0.0249, -0.0220, -0.0055, -0.0091,  0.0066,\n",
      "        -0.0191, -0.0118, -0.0330,  0.0443, -0.0144, -0.0258, -0.0401, -0.0316,\n",
      "         0.0284,  0.0334,  0.0075, -0.0444, -0.0477, -0.0182, -0.0170, -0.0190,\n",
      "        -0.0163, -0.0279, -0.0349,  0.0035, -0.0400, -0.0317, -0.0016,  0.0015,\n",
      "         0.0436, -0.0034,  0.0314, -0.0055,  0.0237, -0.0089,  0.0256,  0.0277,\n",
      "        -0.0481,  0.0012,  0.0010,  0.0096, -0.0472, -0.0495, -0.0400, -0.0047,\n",
      "         0.0345, -0.0277, -0.0216, -0.0290,  0.0261,  0.0368,  0.0033,  0.0269,\n",
      "         0.0461, -0.0069, -0.0212, -0.0286,  0.0359,  0.0303, -0.0336,  0.0286,\n",
      "         0.0226,  0.0231,  0.0172, -0.0077,  0.0228, -0.0317, -0.0057,  0.0200,\n",
      "         0.0196, -0.0247, -0.0427,  0.0248, -0.0250,  0.0274, -0.0473, -0.0432,\n",
      "         0.0465,  0.0449, -0.0165,  0.0297,  0.0328, -0.0133,  0.0391,  0.0355,\n",
      "         0.0485, -0.0063, -0.0442, -0.0260, -0.0080, -0.0207,  0.0316,  0.0417,\n",
      "         0.0384,  0.0112, -0.0234, -0.0303, -0.0059, -0.0286,  0.0399, -0.0384,\n",
      "        -0.0390, -0.0290, -0.0329, -0.0307,  0.0183, -0.0207, -0.0320,  0.0365],\n",
      "       requires_grad=True)\n",
      "Parameter containing:\n",
      "tensor([[-0.0371,  0.0817,  0.0687,  ..., -0.0570,  0.0406, -0.0083],\n",
      "        [ 0.0591, -0.0907, -0.0863,  ..., -0.0754,  0.0787, -0.0542],\n",
      "        [-0.0385, -0.0518,  0.0064,  ...,  0.0870,  0.0634, -0.0167],\n",
      "        ...,\n",
      "        [-0.0752,  0.0148, -0.0138,  ...,  0.0169,  0.0578, -0.0175],\n",
      "        [ 0.0579, -0.0846, -0.0538,  ..., -0.0163,  0.0133,  0.0372],\n",
      "        [-0.0691, -0.0808,  0.0382,  ..., -0.0006, -0.0693, -0.0764]],\n",
      "       requires_grad=True)\n",
      "Parameter containing:\n",
      "tensor([ 0.0058,  0.0849,  0.0859, -0.0189,  0.0273, -0.0852, -0.0591,  0.0678,\n",
      "         0.0148,  0.0224,  0.0103, -0.0367,  0.0740,  0.0870,  0.0377,  0.0854,\n",
      "         0.0274,  0.0690, -0.0584,  0.0318, -0.0649, -0.0117, -0.0593,  0.0311,\n",
      "        -0.0852, -0.0268, -0.0367,  0.0592, -0.0653, -0.0452,  0.0764,  0.0387,\n",
      "         0.0709,  0.0839, -0.0556,  0.0249, -0.0682, -0.0311, -0.0149, -0.0454,\n",
      "         0.0190,  0.0133,  0.0189,  0.0501, -0.0112,  0.0732, -0.0066,  0.0625,\n",
      "         0.0711,  0.0843, -0.0440, -0.0322, -0.0702, -0.0380,  0.0840, -0.0104,\n",
      "        -0.0479, -0.0699, -0.0730, -0.0506,  0.0307, -0.0485, -0.0318, -0.0764,\n",
      "        -0.0815, -0.0529, -0.0844, -0.0059, -0.0318, -0.0430, -0.0552,  0.0333,\n",
      "         0.0385, -0.0173,  0.0355,  0.0825, -0.0293, -0.0550,  0.0566, -0.0207,\n",
      "        -0.0371,  0.0593,  0.0267, -0.0664], requires_grad=True)\n",
      "Parameter containing:\n",
      "tensor([[ 0.0248,  0.0496,  0.1048, -0.0526,  0.0552, -0.0156,  0.0163, -0.1028,\n",
      "         -0.0987,  0.0589,  0.0010,  0.0489, -0.0655,  0.0836, -0.0392, -0.0669,\n",
      "          0.0943, -0.0640, -0.0646, -0.0934,  0.0483, -0.0124, -0.0031,  0.0337,\n",
      "         -0.0306,  0.0181, -0.0586, -0.0257,  0.0614,  0.0329,  0.0728,  0.1024,\n",
      "          0.0769, -0.0391, -0.0918, -0.0467, -0.0079,  0.1040,  0.0128, -0.0154,\n",
      "          0.0767,  0.0438,  0.0905,  0.0158, -0.0073,  0.0525, -0.0067, -0.0647,\n",
      "         -0.0306, -0.0497, -0.0082,  0.0735,  0.0210, -0.0641, -0.0340, -0.0675,\n",
      "         -0.0203, -0.0563,  0.0341, -0.0174, -0.0606,  0.0495,  0.0197,  0.0262,\n",
      "          0.0665,  0.0555, -0.0718,  0.0611, -0.0739, -0.0849,  0.1066, -0.0612,\n",
      "          0.0044,  0.0641, -0.0631, -0.0488,  0.0129, -0.0111,  0.0599,  0.0168,\n",
      "         -0.0014,  0.0162,  0.1045, -0.0783],\n",
      "        [ 0.0882,  0.0137,  0.0816,  0.0278, -0.0595,  0.1075,  0.0605, -0.0945,\n",
      "          0.0949,  0.0850,  0.0864,  0.0311,  0.0391, -0.0184,  0.0773, -0.0719,\n",
      "          0.0261,  0.0701, -0.0290,  0.0690,  0.0600,  0.0104,  0.0042, -0.0508,\n",
      "         -0.0048, -0.1056,  0.0545,  0.0531,  0.0336, -0.0486, -0.0944, -0.0654,\n",
      "          0.0298, -0.0882,  0.0780,  0.1033,  0.0648, -0.0341,  0.0122, -0.0119,\n",
      "          0.0177,  0.0067,  0.0830,  0.0863,  0.0869,  0.0604,  0.0682,  0.0734,\n",
      "          0.0846,  0.0437, -0.0695,  0.0976,  0.0220, -0.0659, -0.0099,  0.0403,\n",
      "         -0.0889, -0.0849, -0.0445,  0.0882,  0.0410,  0.0559,  0.0465,  0.0951,\n",
      "          0.0974,  0.1018,  0.0684,  0.0532,  0.0421,  0.0886, -0.1047,  0.0518,\n",
      "          0.1065,  0.0381,  0.0025, -0.0355,  0.0278, -0.0517,  0.0392, -0.0233,\n",
      "          0.0412, -0.0689, -0.0730, -0.0889],\n",
      "        [ 0.0211,  0.0628,  0.0693, -0.0847,  0.0383,  0.0297,  0.0693, -0.0705,\n",
      "         -0.0365, -0.0748,  0.0076, -0.0852,  0.0821, -0.0947,  0.0081,  0.0159,\n",
      "         -0.0058, -0.0768,  0.0460,  0.0884,  0.0024,  0.0706, -0.0973, -0.0135,\n",
      "         -0.0169,  0.0932,  0.0269, -0.0902,  0.0224,  0.0129,  0.0112,  0.0595,\n",
      "          0.0545, -0.0263,  0.0419, -0.0140, -0.0723,  0.0820,  0.0403,  0.0803,\n",
      "         -0.0726,  0.0017, -0.0765, -0.0334,  0.0872, -0.0266,  0.0411,  0.0467,\n",
      "         -0.0758,  0.0754, -0.0838,  0.0873, -0.0258, -0.1054,  0.0052,  0.1044,\n",
      "          0.0385, -0.0294,  0.0247,  0.0435, -0.0972, -0.0924, -0.0883,  0.0991,\n",
      "         -0.0663, -0.0510,  0.0565, -0.0589,  0.0159,  0.0703,  0.0290,  0.0007,\n",
      "         -0.0742, -0.0620, -0.0272,  0.1014,  0.0284,  0.0358,  0.0107,  0.0040,\n",
      "          0.0957,  0.0221,  0.0344,  0.0343],\n",
      "        [ 0.0592,  0.1049, -0.0349, -0.0202,  0.0299,  0.0612,  0.1015, -0.0460,\n",
      "          0.0150,  0.0656,  0.0492,  0.0954,  0.0042, -0.0902,  0.0111, -0.0616,\n",
      "          0.0120, -0.0602, -0.0323, -0.0048, -0.0279, -0.0516,  0.0482, -0.0748,\n",
      "          0.0679, -0.0312,  0.0778, -0.0607,  0.0754,  0.0605,  0.0722, -0.1035,\n",
      "         -0.0362, -0.0975, -0.1060, -0.0828,  0.0828, -0.0497, -0.0539, -0.0125,\n",
      "          0.0375, -0.0029, -0.0727,  0.0555,  0.0570,  0.0795,  0.0531,  0.0637,\n",
      "          0.0572,  0.0589,  0.1058, -0.0806,  0.0813, -0.0870, -0.0609, -0.0027,\n",
      "          0.0824, -0.0554,  0.0745, -0.0768, -0.0549,  0.0557,  0.0213, -0.0224,\n",
      "         -0.0928,  0.0730, -0.0739,  0.0719,  0.0562, -0.0152, -0.0026, -0.1034,\n",
      "          0.0232,  0.0055, -0.0531, -0.0987,  0.0396,  0.0292,  0.0619, -0.0272,\n",
      "         -0.1031, -0.0822, -0.0343,  0.0954],\n",
      "        [ 0.0040, -0.0493,  0.0212,  0.0647,  0.0705, -0.0557,  0.0793, -0.0454,\n",
      "         -0.0629, -0.0621, -0.0586,  0.0254,  0.0817,  0.0240, -0.0413,  0.0237,\n",
      "          0.1013, -0.0606, -0.0019, -0.0351,  0.0570, -0.0371, -0.0011, -0.0276,\n",
      "         -0.1048, -0.0766, -0.0335, -0.0390, -0.0980,  0.0408, -0.0779, -0.0918,\n",
      "          0.0603, -0.0652,  0.0758,  0.0123, -0.0990,  0.1045, -0.0989, -0.1033,\n",
      "         -0.0964,  0.0613, -0.1038, -0.0192,  0.0830, -0.0264,  0.0930, -0.0911,\n",
      "          0.0578, -0.0445, -0.0826,  0.0561, -0.0509, -0.0954,  0.0651, -0.0931,\n",
      "         -0.0746, -0.0657,  0.0456,  0.0280, -0.0925, -0.1074, -0.0916,  0.0258,\n",
      "         -0.0556, -0.0061,  0.0757, -0.0800,  0.0007, -0.0619,  0.0133,  0.1062,\n",
      "         -0.0659,  0.0780,  0.0803,  0.0844,  0.0086,  0.0840,  0.0899, -0.0879,\n",
      "         -0.0358, -0.0232,  0.0621, -0.0447],\n",
      "        [ 0.0359,  0.0852,  0.1054,  0.0382,  0.0210, -0.0368,  0.0491, -0.0443,\n",
      "          0.0771, -0.0022, -0.0886,  0.0879, -0.0399,  0.0714, -0.0201,  0.1035,\n",
      "          0.1042,  0.0694, -0.0221,  0.0005, -0.0487,  0.0003,  0.0991,  0.0182,\n",
      "          0.0800, -0.0938,  0.0539, -0.0963,  0.0380, -0.1066, -0.0198, -0.0787,\n",
      "         -0.0558,  0.1086, -0.0277,  0.0586, -0.0358, -0.0492, -0.1051, -0.0162,\n",
      "          0.1058, -0.0468, -0.0245, -0.0906, -0.1037,  0.1050,  0.0538, -0.0845,\n",
      "          0.0806, -0.0374,  0.0376, -0.0050,  0.0191, -0.1032, -0.0361, -0.0882,\n",
      "          0.1031,  0.0382,  0.0413,  0.0600, -0.0701,  0.0848,  0.0677,  0.0486,\n",
      "          0.1051,  0.0244, -0.0405,  0.0713, -0.0040, -0.0774, -0.0025, -0.0208,\n",
      "         -0.0905, -0.0729,  0.0716, -0.0087,  0.0324, -0.0742, -0.0241,  0.0251,\n",
      "          0.1058, -0.0039,  0.0158, -0.1049],\n",
      "        [-0.0628, -0.0878,  0.0763,  0.0617,  0.0888, -0.0173,  0.0895,  0.0249,\n",
      "          0.0028,  0.0626,  0.0481,  0.0865,  0.0291, -0.0398,  0.0417,  0.0020,\n",
      "          0.0213,  0.0773,  0.0729, -0.0516,  0.0983,  0.0902, -0.0495,  0.0275,\n",
      "         -0.0764, -0.0047, -0.0669,  0.1046, -0.1020, -0.0022, -0.0765, -0.0040,\n",
      "         -0.1071, -0.0907,  0.0941, -0.0012,  0.0884, -0.0856, -0.0452,  0.1071,\n",
      "         -0.0486, -0.0602,  0.0889, -0.0834,  0.0450, -0.0998,  0.0317,  0.0055,\n",
      "         -0.1032,  0.0982, -0.0634, -0.0558,  0.1079, -0.0984, -0.0051,  0.0962,\n",
      "         -0.0767, -0.0544, -0.0041, -0.0942,  0.1025, -0.0020, -0.0915, -0.0235,\n",
      "         -0.0664,  0.0918,  0.0847,  0.0366, -0.0087,  0.1066,  0.0862,  0.0393,\n",
      "         -0.0934, -0.0306, -0.0805,  0.0355,  0.0673,  0.0745, -0.0246, -0.0379,\n",
      "          0.0593,  0.0546,  0.1086, -0.0660],\n",
      "        [ 0.1021, -0.0642,  0.0284, -0.0675, -0.1070,  0.0793,  0.0111,  0.0355,\n",
      "         -0.0357, -0.0184, -0.0397, -0.0551,  0.0942, -0.0625, -0.0048, -0.0386,\n",
      "         -0.1089,  0.0570,  0.1077, -0.0330, -0.0978,  0.0119, -0.0699, -0.0238,\n",
      "         -0.0631, -0.0103,  0.0035, -0.0923, -0.0942, -0.0357,  0.0766, -0.0189,\n",
      "         -0.0281, -0.0299, -0.0730, -0.0560, -0.0871, -0.1007,  0.0981, -0.0694,\n",
      "         -0.0293,  0.0322, -0.0315,  0.0487,  0.0935,  0.0130,  0.0965, -0.0375,\n",
      "         -0.0071, -0.0246,  0.0337, -0.0683,  0.1067,  0.0162, -0.0884,  0.1023,\n",
      "         -0.0524,  0.0434, -0.0031, -0.0372, -0.0488, -0.0936,  0.0193,  0.0174,\n",
      "          0.1028,  0.0344, -0.0675,  0.0182,  0.0852,  0.0666,  0.0953, -0.0364,\n",
      "          0.0892,  0.0258,  0.0221, -0.0710, -0.0403,  0.0120, -0.1073,  0.0456,\n",
      "         -0.0709, -0.0186, -0.0657,  0.0840],\n",
      "        [-0.0155,  0.0614,  0.0309,  0.0086, -0.0071,  0.0882, -0.0411,  0.0810,\n",
      "          0.1007, -0.0145, -0.0551,  0.0885, -0.0476,  0.0442, -0.0037, -0.0530,\n",
      "          0.0212,  0.0731, -0.0790, -0.0987, -0.0694, -0.0940, -0.1004,  0.0321,\n",
      "          0.0711, -0.1020,  0.0809,  0.0850, -0.0105, -0.0428,  0.0824,  0.0646,\n",
      "         -0.0827, -0.0709,  0.0913,  0.0088, -0.0296, -0.0325,  0.1031, -0.0141,\n",
      "          0.0949,  0.0054, -0.0139, -0.0252,  0.0315,  0.0637,  0.0267,  0.0253,\n",
      "         -0.0564, -0.0872, -0.0508,  0.0945,  0.0975,  0.0177,  0.0940, -0.0738,\n",
      "         -0.0525, -0.0044, -0.0806,  0.0858, -0.0377, -0.0672,  0.1069, -0.0107,\n",
      "         -0.0811,  0.0484, -0.0447, -0.0863, -0.0419,  0.0482, -0.0742,  0.0693,\n",
      "          0.0164, -0.0786,  0.0160, -0.0936,  0.0943, -0.1089, -0.0686,  0.0901,\n",
      "         -0.0554, -0.0398,  0.0504,  0.0972],\n",
      "        [ 0.0186, -0.0742,  0.0939, -0.0619,  0.0032, -0.0398,  0.0144,  0.0391,\n",
      "          0.0971, -0.1045,  0.0616, -0.0703, -0.0124,  0.0156,  0.1049, -0.1022,\n",
      "          0.0343, -0.1026,  0.0860,  0.0336, -0.0295, -0.0593,  0.0172,  0.0724,\n",
      "          0.0898,  0.0321, -0.0963, -0.0986, -0.0019,  0.0379, -0.0537,  0.0474,\n",
      "         -0.0339,  0.0696, -0.0688,  0.0789,  0.0768, -0.0309,  0.0261,  0.0124,\n",
      "         -0.0040, -0.0936, -0.0479, -0.0150, -0.0706, -0.0253, -0.1053,  0.0656,\n",
      "          0.0729,  0.0296,  0.0949, -0.0721,  0.0266, -0.0155, -0.0430,  0.0036,\n",
      "         -0.0411, -0.0384,  0.0130, -0.0367,  0.0120, -0.0739,  0.0287, -0.0913,\n",
      "          0.0911,  0.1081,  0.0193,  0.0790, -0.0005, -0.0344,  0.0530,  0.0209,\n",
      "          0.0620, -0.0369,  0.1019,  0.0579, -0.1069,  0.0029,  0.0717, -0.0314,\n",
      "          0.0436,  0.0081, -0.0750, -0.0623]], requires_grad=True)\n",
      "Parameter containing:\n",
      "tensor([ 0.0363, -0.1061,  0.0859,  0.0742, -0.0242, -0.0972,  0.0560, -0.0302,\n",
      "         0.0280, -0.0756], requires_grad=True)\n"
     ]
    }
   ],
   "source": [
    "for p in model.parameters():\n",
    "    print(p)"
   ]
  },
  {
   "cell_type": "markdown",
   "metadata": {},
   "source": [
    "### Define loss function & optimizer"
   ]
  },
  {
   "cell_type": "code",
   "execution_count": 30,
   "metadata": {},
   "outputs": [],
   "source": [
    "criterion = nn.CrossEntropyLoss()\n",
    "optimizer = torch.optim.Adam(model.parameters(), lr=0.001)"
   ]
  },
  {
   "cell_type": "markdown",
   "metadata": {},
   "source": [
    "### Train the model\n",
    "This time we'll feed the data directly into the model without flattening it first."
   ]
  },
  {
   "cell_type": "code",
   "execution_count": 31,
   "metadata": {},
   "outputs": [
    {
     "name": "stdout",
     "output_type": "stream",
     "text": [
      "epoch:  0  batch:  600 [  6000/60000]  loss: 0.09132616  accuracy:  78.583%\n",
      "epoch:  0  batch: 1200 [ 12000/60000]  loss: 0.11492185  accuracy:  85.317%\n",
      "epoch:  0  batch: 1800 [ 18000/60000]  loss: 0.30503580  accuracy:  88.572%\n",
      "epoch:  0  batch: 2400 [ 24000/60000]  loss: 0.08243070  accuracy:  90.325%\n",
      "epoch:  0  batch: 3000 [ 30000/60000]  loss: 0.00400509  accuracy:  91.520%\n",
      "epoch:  0  batch: 3600 [ 36000/60000]  loss: 0.12645561  accuracy:  92.392%\n",
      "epoch:  0  batch: 4200 [ 42000/60000]  loss: 0.01557823  accuracy:  93.021%\n",
      "epoch:  0  batch: 4800 [ 48000/60000]  loss: 0.00404584  accuracy:  93.473%\n",
      "epoch:  1  batch:  600 [  6000/60000]  loss: 0.03936837  accuracy:  97.567%\n",
      "epoch:  1  batch: 1200 [ 12000/60000]  loss: 0.00114718  accuracy:  97.558%\n",
      "epoch:  1  batch: 1800 [ 18000/60000]  loss: 0.06297755  accuracy:  97.644%\n",
      "epoch:  1  batch: 2400 [ 24000/60000]  loss: 0.00692487  accuracy:  97.658%\n",
      "epoch:  1  batch: 3000 [ 30000/60000]  loss: 0.31398952  accuracy:  97.720%\n",
      "epoch:  1  batch: 3600 [ 36000/60000]  loss: 0.00734396  accuracy:  97.761%\n",
      "epoch:  1  batch: 4200 [ 42000/60000]  loss: 0.00082393  accuracy:  97.793%\n",
      "epoch:  1  batch: 4800 [ 48000/60000]  loss: 0.64608741  accuracy:  97.812%\n",
      "epoch:  2  batch:  600 [  6000/60000]  loss: 0.00355698  accuracy:  98.517%\n",
      "epoch:  2  batch: 1200 [ 12000/60000]  loss: 0.00297100  accuracy:  98.433%\n",
      "epoch:  2  batch: 1800 [ 18000/60000]  loss: 0.01680372  accuracy:  98.361%\n",
      "epoch:  2  batch: 2400 [ 24000/60000]  loss: 0.00314118  accuracy:  98.317%\n",
      "epoch:  2  batch: 3000 [ 30000/60000]  loss: 0.00393555  accuracy:  98.313%\n",
      "epoch:  2  batch: 3600 [ 36000/60000]  loss: 0.04572730  accuracy:  98.339%\n",
      "epoch:  2  batch: 4200 [ 42000/60000]  loss: 0.00386831  accuracy:  98.345%\n",
      "epoch:  2  batch: 4800 [ 48000/60000]  loss: 0.03832520  accuracy:  98.396%\n",
      "epoch:  3  batch:  600 [  6000/60000]  loss: 0.04807193  accuracy:  98.933%\n",
      "epoch:  3  batch: 1200 [ 12000/60000]  loss: 0.01251532  accuracy:  98.867%\n",
      "epoch:  3  batch: 1800 [ 18000/60000]  loss: 0.00353209  accuracy:  98.839%\n",
      "epoch:  3  batch: 2400 [ 24000/60000]  loss: 0.00160701  accuracy:  98.842%\n",
      "epoch:  3  batch: 3000 [ 30000/60000]  loss: 0.00633584  accuracy:  98.793%\n",
      "epoch:  3  batch: 3600 [ 36000/60000]  loss: 0.05586121  accuracy:  98.761%\n",
      "epoch:  3  batch: 4200 [ 42000/60000]  loss: 0.00031446  accuracy:  98.781%\n",
      "epoch:  3  batch: 4800 [ 48000/60000]  loss: 0.00071890  accuracy:  98.785%\n",
      "epoch:  4  batch:  600 [  6000/60000]  loss: 0.06665026  accuracy:  99.183%\n",
      "epoch:  4  batch: 1200 [ 12000/60000]  loss: 0.00031664  accuracy:  99.217%\n",
      "epoch:  4  batch: 1800 [ 18000/60000]  loss: 0.06020655  accuracy:  98.994%\n",
      "epoch:  4  batch: 2400 [ 24000/60000]  loss: 0.03428789  accuracy:  98.912%\n",
      "epoch:  4  batch: 3000 [ 30000/60000]  loss: 0.00025779  accuracy:  98.973%\n",
      "epoch:  4  batch: 3600 [ 36000/60000]  loss: 0.01351333  accuracy:  98.989%\n",
      "epoch:  4  batch: 4200 [ 42000/60000]  loss: 0.00198822  accuracy:  98.971%\n",
      "epoch:  4  batch: 4800 [ 48000/60000]  loss: 0.00981339  accuracy:  98.973%\n",
      "\n",
      "Duration: 512 seconds\n"
     ]
    }
   ],
   "source": [
    "import time\n",
    "start_time = time.time()\n",
    "\n",
    "epochs = 5\n",
    "train_losses = []\n",
    "val_losses = []\n",
    "train_correct = []\n",
    "val_correct = []\n",
    "\n",
    "for i in range(epochs):\n",
    "    trn_corr = 0\n",
    "    tst_corr = 0\n",
    "    \n",
    "    # Run the training batches\n",
    "    for b, (X_train, y_train) in enumerate(train_loader):\n",
    "        b+=1\n",
    "        \n",
    "        # Apply the model\n",
    "        y_pred = model(X_train)  # we don't flatten X-train here\n",
    "        loss = criterion(y_pred, y_train)\n",
    " \n",
    "        # Tally the number of correct predictions\n",
    "        predicted = torch.max(y_pred.data, 1)[1]\n",
    "        batch_corr = (predicted == y_train).sum()\n",
    "        trn_corr += batch_corr\n",
    "        \n",
    "        # Update parameters\n",
    "        optimizer.zero_grad()\n",
    "        loss.backward()\n",
    "        optimizer.step()\n",
    "        \n",
    "        # Print interim results\n",
    "        if b%600 == 0:\n",
    "            print(f'epoch: {i:2}  batch: {b:4} [{10*b:6}/60000]  loss: {loss.item():10.8f}  \\\n",
    "accuracy: {trn_corr.item()*100/(10*b):7.3f}%')\n",
    "        \n",
    "    train_losses.append(loss)\n",
    "    train_correct.append(trn_corr)\n",
    "        \n",
    "    # Run the validation batches\n",
    "    with torch.no_grad():\n",
    "        for b, (X_val, y_val) in enumerate(val_loader):\n",
    "\n",
    "            # Apply the model\n",
    "            yhat_val = model(X_val)\n",
    "\n",
    "            # Tally the number of correct predictions\n",
    "            predicted = torch.max(yhat_val.data, 1)[1] \n",
    "            tst_corr += (predicted == y_val).sum()\n",
    "            \n",
    "    loss = criterion(yhat_val, y_val)\n",
    "    val_losses.append(loss)\n",
    "    val_correct.append(tst_corr)\n",
    "        \n",
    "print(f'\\nDuration: {time.time() - start_time:.0f} seconds') # print the time elapsed            "
   ]
  },
  {
   "cell_type": "markdown",
   "metadata": {},
   "source": [
    "### Plot the loss and accuracy comparisons"
   ]
  },
  {
   "cell_type": "code",
   "execution_count": 32,
   "metadata": {},
   "outputs": [],
   "source": [
    "train_losses = [loss.item() for loss in train_losses]\n",
    "val_losses   = [loss.item() for loss in val_losses]"
   ]
  },
  {
   "cell_type": "code",
   "execution_count": 33,
   "metadata": {},
   "outputs": [
    {
     "data": {
      "text/plain": [
       "[0.13117974996566772,\n",
       " 0.0008756987517699599,\n",
       " 0.00042012985795736313,\n",
       " 0.0009687637793831527,\n",
       " 0.0005734002916142344]"
      ]
     },
     "execution_count": 33,
     "metadata": {},
     "output_type": "execute_result"
    }
   ],
   "source": [
    "train_losses"
   ]
  },
  {
   "cell_type": "code",
   "execution_count": 34,
   "metadata": {},
   "outputs": [
    {
     "data": {
      "image/png": "[encoded data removed]",
      "text/plain": [
       "<Figure size 432x288 with 1 Axes>"
      ]
     },
     "metadata": {
      "needs_background": "light"
     },
     "output_type": "display_data"
    }
   ],
   "source": [
    "plt.plot(train_losses, label='training loss')\n",
    "plt.plot(val_losses, label='validation loss')\n",
    "plt.title('Loss at the end of each epoch')\n",
    "plt.legend();"
   ]
  },
  {
   "cell_type": "code",
   "execution_count": 35,
   "metadata": {},
   "outputs": [
    {
     "data": {
      "text/plain": [
       "[0.02205977402627468,\n",
       " 0.00018502776219975203,\n",
       " 0.04702049121260643,\n",
       " 0.005005634855479002,\n",
       " 0.0007479545311070979]"
      ]
     },
     "execution_count": 35,
     "metadata": {},
     "output_type": "execute_result"
    }
   ],
   "source": [
    "val_losses"
   ]
  },
  {
   "cell_type": "markdown",
   "metadata": {},
   "source": [
    "While there may be some overfitting of the training data, there is far less than we saw with the ANN model."
   ]
  },
  {
   "cell_type": "code",
   "execution_count": 36,
   "metadata": {},
   "outputs": [
    {
     "data": {
      "image/png": "[encoded data removed]",
      "text/plain": [
       "<Figure size 432x288 with 1 Axes>"
      ]
     },
     "metadata": {
      "needs_background": "light"
     },
     "output_type": "display_data"
    }
   ],
   "source": [
    "plt.plot([t/600 for t in train_correct], label='training accuracy')\n",
    "plt.plot([t/100 for t in val_correct], label='validation accuracy')\n",
    "plt.title('Accuracy at the end of each epoch')\n",
    "plt.legend();"
   ]
  },
  {
   "cell_type": "code",
   "execution_count": 45,
   "metadata": {},
   "outputs": [
    {
     "data": {
      "text/plain": [
       "tensor(46649)"
      ]
     },
     "execution_count": 45,
     "metadata": {},
     "output_type": "execute_result"
    }
   ],
   "source": [
    "train_correct[0]"
   ]
  },
  {
   "cell_type": "code",
   "execution_count": 46,
   "metadata": {},
   "outputs": [
    {
     "data": {
      "text/plain": [
       "5000"
      ]
     },
     "execution_count": 46,
     "metadata": {},
     "output_type": "execute_result"
    }
   ],
   "source": [
    "len(train_loader)"
   ]
  },
  {
   "cell_type": "code",
   "execution_count": 47,
   "metadata": {},
   "outputs": [
    {
     "data": {
      "text/plain": [
       "array(93.298, dtype=float32)"
      ]
     },
     "execution_count": 47,
     "metadata": {},
     "output_type": "execute_result"
    }
   ],
   "source": [
    "temp = 100*train_correct[0]/(len(train_loader)*10)\n",
    "temp.numpy() # converts tensor to numpy array"
   ]
  },
  {
   "cell_type": "markdown",
   "metadata": {},
   "source": [
    "## 3. Inference / Testing"
   ]
  },
  {
   "cell_type": "code",
   "execution_count": 48,
   "metadata": {},
   "outputs": [],
   "source": [
    "# Extract the data all at once, not in batches\n",
    "test_load_all = DataLoader(test_data, batch_size=10000, shuffle=False)"
   ]
  },
  {
   "cell_type": "code",
   "execution_count": 49,
   "metadata": {},
   "outputs": [
    {
     "name": "stdout",
     "output_type": "stream",
     "text": [
      "Test accuracy: 9862/10000 =  98.620%\n"
     ]
    }
   ],
   "source": [
    "with torch.no_grad():\n",
    "    correct = 0\n",
    "    for X_test, y_test in test_load_all:\n",
    "        y_val = model(X_test)  # we don't flatten the data this time\n",
    "        predicted = torch.max(y_val,1)[1]\n",
    "        correct += (predicted == y_test).sum()\n",
    "print(f'Test accuracy: {correct.item()}/{len(test_data)} = {correct.item()*100/(len(test_data)):7.3f}%')"
   ]
  },
  {
   "cell_type": "markdown",
   "metadata": {},
   "source": [
    "Recall that our [784,120,84,10] ANN returned an accuracy of 97.25% after 10 epochs. And it used 105,214 parameters to our current 60,074."
   ]
  },
  {
   "cell_type": "markdown",
   "metadata": {},
   "source": [
    "## Display the confusion matrix"
   ]
  },
  {
   "cell_type": "code",
   "execution_count": 50,
   "metadata": {},
   "outputs": [
    {
     "name": "stdout",
     "output_type": "stream",
     "text": [
      "[[   0    1    2    3    4    5    6    7    8    9]]\n",
      "\n",
      "[[ 959    0    1    0    0    1    3    0    0    0]\n",
      " [   0 1121    0    1    0    0    1    1    0    1]\n",
      " [   2    2 1016    1    0    0    1    4    1    0]\n",
      " [   0    1    3  995    0    3    0    2    1    0]\n",
      " [   2    1    1    0  973    0    4    0    0    5]\n",
      " [   2    1    0   10    0  882    4    0    1    4]\n",
      " [   5    1    0    0    2    1  941    0    0    0]\n",
      " [   1    5    9    2    1    1    0 1016    3    4]\n",
      " [   2    3    2    1    0    2    4    0  964    0]\n",
      " [   7    0    0    0    6    2    0    5    4  995]]\n"
     ]
    }
   ],
   "source": [
    "# print a row of values for reference\n",
    "np.set_printoptions(formatter=dict(int=lambda x: f'{x:4}'))\n",
    "print(np.arange(10).reshape(1,10))\n",
    "print()\n",
    "\n",
    "# print the confusion matrix\n",
    "print(confusion_matrix(predicted.view(-1), y_test.view(-1)))"
   ]
  },
  {
   "cell_type": "markdown",
   "metadata": {},
   "source": [
    "## Examine the misses\n",
    "We can track the index positions of \"missed\" predictions, and extract the corresponding image and label. We'll do this in batches to save screen space."
   ]
  },
  {
   "cell_type": "code",
   "execution_count": 51,
   "metadata": {},
   "outputs": [
    {
     "data": {
      "text/plain": [
       "138"
      ]
     },
     "execution_count": 51,
     "metadata": {},
     "output_type": "execute_result"
    }
   ],
   "source": [
    "misses = np.array([])\n",
    "for i in range(len(predicted.view(-1))):\n",
    "    if predicted[i] != y_test[i]:\n",
    "        misses = np.append(misses,i).astype('int64')\n",
    "        \n",
    "# Display the number of misses\n",
    "len(misses)"
   ]
  },
  {
   "cell_type": "code",
   "execution_count": 52,
   "metadata": {},
   "outputs": [
    {
     "data": {
      "text/plain": [
       "array([  18,  321,  359,  445,  449,  542,  582,  684,  716,  723],\n",
       "      dtype=int64)"
      ]
     },
     "execution_count": 52,
     "metadata": {},
     "output_type": "execute_result"
    }
   ],
   "source": [
    "# Display the first 10 index positions\n",
    "misses[:10]"
   ]
  },
  {
   "cell_type": "code",
   "execution_count": 53,
   "metadata": {},
   "outputs": [],
   "source": [
    "# Set up an iterator to feed batched rows\n",
    "r = 12   # row size\n",
    "row = iter(np.array_split(misses,len(misses)//r+1))"
   ]
  },
  {
   "cell_type": "code",
   "execution_count": 54,
   "metadata": {},
   "outputs": [
    {
     "data": {
      "text/plain": [
       "<list_iterator at 0x27fb5ef5d00>"
      ]
     },
     "execution_count": 54,
     "metadata": {},
     "output_type": "execute_result"
    }
   ],
   "source": [
    "row"
   ]
  },
  {
   "cell_type": "markdown",
   "metadata": {},
   "source": [
    "Now that everything is set up, run and re-run the cell below to view all of the missed predictions.<br>\n",
    "Use <kbd>Ctrl+Enter</kbd> to remain on the cell between runs. You'll see a <tt>StopIteration</tt> once all the misses have been seen."
   ]
  },
  {
   "cell_type": "code",
   "execution_count": 55,
   "metadata": {},
   "outputs": [
    {
     "name": "stdout",
     "output_type": "stream",
     "text": [
      "Index: [  18  321  359  445  449  542  582  684  716  723  740  791]\n",
      "Label: [   3    2    9    6    3    8    8    7    1    0    4    5]\n",
      "Guess: [   5    7    4    0    5    9    2    3    7    4    9    9]\n"
     ]
    },
    {
     "data": {
      "image/png": "[encoded data removed]",
      "text/plain": [
       "<Figure size 720x288 with 1 Axes>"
      ]
     },
     "metadata": {
      "needs_background": "light"
     },
     "output_type": "display_data"
    }
   ],
   "source": [
    "nextrow = next(row)\n",
    "print(\"Index:\", nextrow)\n",
    "print(\"Label:\", y_test.index_select(0,torch.tensor(nextrow)).numpy())\n",
    "print(\"Guess:\", predicted.index_select(0,torch.tensor(nextrow)).numpy())\n",
    "\n",
    "images = X_test.index_select(0,torch.tensor(nextrow))\n",
    "im = make_grid(images, nrow=r)\n",
    "plt.figure(figsize=(10,4))\n",
    "plt.imshow(np.transpose(im.numpy(), (1, 2, 0)));"
   ]
  },
  {
   "cell_type": "markdown",
   "metadata": {},
   "source": [
    "## Run a new image through the model\n",
    "We can also pass a single image through the model to obtain a prediction.\n",
    "Pick a number from 0 to 9999, assign it to \"x\", and we'll use that value to select a number from the MNIST test set."
   ]
  },
  {
   "cell_type": "code",
   "execution_count": 56,
   "metadata": {},
   "outputs": [
    {
     "data": {
      "image/png": "[encoded data removed]",
      "text/plain": [
       "<Figure size 72x72 with 1 Axes>"
      ]
     },
     "metadata": {
      "needs_background": "light"
     },
     "output_type": "display_data"
    }
   ],
   "source": [
    "x = 2019\n",
    "plt.figure(figsize=(1,1))\n",
    "plt.imshow(test_data[x][0].reshape((28,28)), cmap=\"gist_yarg\");"
   ]
  },
  {
   "cell_type": "code",
   "execution_count": 57,
   "metadata": {},
   "outputs": [
    {
     "name": "stdout",
     "output_type": "stream",
     "text": [
      "Predicted value: 9\n"
     ]
    }
   ],
   "source": [
    "model.eval()\n",
    "with torch.no_grad():\n",
    "    new_pred = model(test_data[x][0].view(1,1,28,28)).argmax()\n",
    "print(\"Predicted value:\",new_pred.item())\n",
    "# model.eval() vs torch.no_grad()\n",
    "# https://discuss.pytorch.org/t/model-eval-vs-with-torch-no-grad/19615"
   ]
  }
 ],
 "metadata": {
  "kernelspec": {
   "display_name": "Python 3",
   "language": "python",
   "name": "python3"
  },
  "language_info": {
   "codemirror_mode": {
    "name": "ipython",
    "version": 3
   },
   "file_extension": ".py",
   "mimetype": "text/x-python",
   "name": "python",
   "nbconvert_exporter": "python",
   "pygments_lexer": "ipython3",
   "version": "3.9.2"
  },
  "vscode": {
   "interpreter": {
    "hash": "c6a2dc670f3436433c0efae6fb324965c1072d8aef0b90287abce79ee9328779"
   }
  }
 },
 "nbformat": 4,
 "nbformat_minor": 1
}
