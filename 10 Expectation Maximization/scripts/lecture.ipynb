{
 "cells": [
  {
   "cell_type": "code",
   "execution_count": 84,
   "metadata": {},
   "outputs": [],
   "source": [
    "import numpy as np\n",
    "from IPython import get_ipython\n",
    "get_ipython().run_line_magic('matplotlib', 'inline')"
   ]
  },
  {
   "cell_type": "code",
   "execution_count": 85,
   "metadata": {},
   "outputs": [],
   "source": [
    "def perform_gmm(xs, thetas):\n",
    "    tol = 0.01 #stop condition\n",
    "    max_iter = 100\n",
    "\n",
    "    ll_old = 0\n",
    "    for i in range(max_iter):\n",
    "        ws_A = []\n",
    "        ws_B = []\n",
    "\n",
    "        vs_A = []\n",
    "        vs_B = []\n",
    "\n",
    "        ll_new = 0\n",
    "\n",
    "        # E-step: calculate probability distributions over possible completions\n",
    "        for x in xs:\n",
    "\n",
    "            # multinomial (binomial) log likelihood\n",
    "            ll_A = np.sum([x*np.log(thetas[0])])\n",
    "            ll_B = np.sum([x*np.log(thetas[1])])\n",
    "\n",
    "            # [EQN 1]\n",
    "            denom = np.exp(ll_A) + np.exp(ll_B)\n",
    "            w_A = np.exp(ll_A)/denom\n",
    "            w_B = np.exp(ll_B)/denom\n",
    "\n",
    "            ws_A.append(w_A)\n",
    "            ws_B.append(w_B)\n",
    "\n",
    "            # used for calculating theta\n",
    "            vs_A.append(np.dot(w_A, x))\n",
    "            vs_B.append(np.dot(w_B, x))\n",
    "\n",
    "            # update complete log likelihood\n",
    "            ll_new += w_A * ll_A + w_B * ll_B\n",
    "\n",
    "        # M-step: update values for parameters given current distribution\n",
    "        # [EQN 2]\n",
    "        thetas[0] = np.sum(vs_A, 0)/np.sum(vs_A)\n",
    "        thetas[1] = np.sum(vs_B, 0)/np.sum(vs_B)\n",
    "        # print distribution of z for each x and current parameter estimate\n",
    "\n",
    "        print (\"Iteration: %d\" % (i+1))\n",
    "        print (\"theta_A = %.2f, theta_B = %.2f, ll = %.2f\" % (thetas[0,0], thetas[1,0], ll_new))\n",
    "\n",
    "        if np.abs(ll_new - ll_old) < tol:\n",
    "            break\n",
    "        ll_old = ll_new"
   ]
  },
  {
   "attachments": {},
   "cell_type": "markdown",
   "metadata": {},
   "source": [
    "Example 1"
   ]
  },
  {
   "cell_type": "code",
   "execution_count": 99,
   "metadata": {},
   "outputs": [
    {
     "name": "stdout",
     "output_type": "stream",
     "text": [
      "Iteration: 1\n",
      "theta_A = 0.67, theta_B = 0.59, ll = -27.23\n",
      "Iteration: 2\n",
      "theta_A = 0.72, theta_B = 0.59, ll = -31.75\n",
      "Iteration: 3\n",
      "theta_A = 0.74, theta_B = 0.57, ll = -31.31\n",
      "Iteration: 4\n",
      "theta_A = 0.77, theta_B = 0.55, ll = -30.82\n",
      "Iteration: 5\n",
      "theta_A = 0.78, theta_B = 0.54, ll = -30.38\n",
      "Iteration: 6\n",
      "theta_A = 0.79, theta_B = 0.53, ll = -30.10\n",
      "Iteration: 7\n",
      "theta_A = 0.79, theta_B = 0.52, ll = -29.96\n",
      "Iteration: 8\n",
      "theta_A = 0.80, theta_B = 0.52, ll = -29.91\n",
      "Iteration: 9\n",
      "theta_A = 0.80, theta_B = 0.52, ll = -29.88\n",
      "Iteration: 10\n",
      "theta_A = 0.80, theta_B = 0.52, ll = -29.87\n"
     ]
    }
   ],
   "source": [
    "xs = np.array([(5,5), (9,1), (8,2), (4,6), (7,3)])\n",
    "thetas = np.array([[0.65, 0.50], [0.5, 0.5]])\n",
    "\n",
    "perform_gmm(xs, thetas)"
   ]
  },
  {
   "cell_type": "code",
   "execution_count": 100,
   "metadata": {},
   "outputs": [
    {
     "name": "stdout",
     "output_type": "stream",
     "text": [
      "Iteration: 1\n",
      "theta_A = 0.66, theta_B = 0.54, ll = -18.11\n",
      "Iteration: 2\n",
      "theta_A = 0.73, theta_B = 0.57, ll = -31.67\n",
      "Iteration: 3\n",
      "theta_A = 0.76, theta_B = 0.56, ll = -30.95\n",
      "Iteration: 4\n",
      "theta_A = 0.78, theta_B = 0.54, ll = -30.48\n",
      "Iteration: 5\n",
      "theta_A = 0.79, theta_B = 0.53, ll = -30.15\n",
      "Iteration: 6\n",
      "theta_A = 0.79, theta_B = 0.52, ll = -29.98\n",
      "Iteration: 7\n",
      "theta_A = 0.80, theta_B = 0.52, ll = -29.91\n",
      "Iteration: 8\n",
      "theta_A = 0.80, theta_B = 0.52, ll = -29.89\n",
      "Iteration: 9\n",
      "theta_A = 0.80, theta_B = 0.52, ll = -29.88\n",
      "Iteration: 10\n",
      "theta_A = 0.80, theta_B = 0.52, ll = -29.87\n"
     ]
    }
   ],
   "source": [
    "xs = np.array([(5,5), (9,1), (8,2), (4,6), (7,3)])\n",
    "thetas = np.array([[0.80, 0.55], [0.5, 0.5]])\n",
    "\n",
    "perform_gmm(xs, thetas)"
   ]
  },
  {
   "attachments": {},
   "cell_type": "markdown",
   "metadata": {},
   "source": [
    "Example 2"
   ]
  },
  {
   "cell_type": "code",
   "execution_count": 101,
   "metadata": {},
   "outputs": [
    {
     "name": "stdout",
     "output_type": "stream",
     "text": [
      "Iteration: 1\n",
      "theta_A = 0.52, theta_B = 0.52, ll = -29.01\n",
      "Iteration: 2\n",
      "theta_A = 0.52, theta_B = 0.52, ll = -34.62\n",
      "Iteration: 3\n",
      "theta_A = 0.52, theta_B = 0.52, ll = -34.62\n"
     ]
    }
   ],
   "source": [
    "xs = np.array([(4,6), (6,4), (5,5), (5, 5), (6, 4)])\n",
    "thetas = np.array([[0.60, 0.55], [0.5, 0.5]])\n",
    "\n",
    "perform_gmm(xs, thetas)"
   ]
  },
  {
   "cell_type": "code",
   "execution_count": 1,
   "metadata": {},
   "outputs": [],
   "source": [
    "import numpy as np\n",
    "import pandas as pd\n",
    "from scipy import stats\n",
    "from scipy.special import logsumexp\n",
    "from sklearn.mixture import GaussianMixture\n",
    "from matplotlib import pyplot as plt\n",
    "\n",
    "\n",
    "def GMM_sklearn(x, weights=None, means=None, covariances=None):\n",
    "    model = GaussianMixture(n_components=2,\n",
    "                            covariance_type='full',\n",
    "                            tol=0.01,\n",
    "                            max_iter=1000,\n",
    "                            weights_init=weights,\n",
    "                            means_init=means,\n",
    "                            precisions_init=covariances)\n",
    "    model.fit(x)\n",
    "    print(\"\\nscikit learn:\\n\\tphi: %s\\n\\tmu_0: %s\\n\\tmu_1: %s\\n\\tsigma_0: %s\\n\\tsigma_1: %s\"\n",
    "               % (model.weights_[1], model.means_[0, :], model.means_[1, :], model.covariances_[0, :], model.covariances_[1, :]))\n",
    "    return model.predict(x), model.predict_proba(x)[:,1]\n",
    "\n",
    "\n",
    "def get_random_psd(n):\n",
    "    x = np.random.normal(0, 1, size=(n, n))\n",
    "    return np.dot(x, x.transpose())\n",
    "\n",
    "\n",
    "def initialize_random_params():\n",
    "    params = {'phi': np.random.uniform(0, 1),\n",
    "              'mu0': np.random.normal(0, 1, size=(2,)),\n",
    "              'mu1': np.random.normal(0, 1, size=(2,)),\n",
    "              'sigma0': get_random_psd(2),\n",
    "              'sigma1': get_random_psd(2)}\n",
    "    return params\n",
    "\n",
    "\n",
    "def learn_params(x_labeled, y_labeled):\n",
    "    n = x_labeled.shape[0]\n",
    "    phi = x_labeled[y_labeled == 1].shape[0] / n\n",
    "    mu0 = np.sum(x_labeled[y_labeled == 0], axis=0) / x_labeled[y_labeled == 0].shape[0]\n",
    "    mu1 = np.sum(x_labeled[y_labeled == 1], axis=0) / x_labeled[y_labeled == 1].shape[0]\n",
    "    sigma0 = np.cov(x_labeled[y_labeled == 0].T, bias= True)\n",
    "    sigma1 = np.cov(x_labeled[y_labeled == 1].T, bias=True)\n",
    "    return {'phi': phi, 'mu0': mu0, 'mu1': mu1, 'sigma0': sigma0, 'sigma1': sigma1}\n",
    "\n",
    "\n",
    "def e_step(x, params):\n",
    "    np.log([stats.multivariate_normal(params[\"mu0\"], params[\"sigma0\"]).pdf(x),\n",
    "            stats.multivariate_normal(params[\"mu1\"], params[\"sigma1\"]).pdf(x)])\n",
    "    log_p_y_x = np.log([1-params[\"phi\"], params[\"phi\"]])[np.newaxis, ...] + \\\n",
    "                np.log([stats.multivariate_normal(params[\"mu0\"], params[\"sigma0\"]).pdf(x),\n",
    "            stats.multivariate_normal(params[\"mu1\"], params[\"sigma1\"]).pdf(x)]).T\n",
    "    log_p_y_x_norm = logsumexp(log_p_y_x, axis=1)\n",
    "    return log_p_y_x_norm, np.exp(log_p_y_x - log_p_y_x_norm[..., np.newaxis])\n",
    "\n",
    "\n",
    "def m_step(x, params):\n",
    "    total_count = x.shape[0]\n",
    "    _, heuristics = e_step(x, params)\n",
    "    heuristic0 = heuristics[:, 0]\n",
    "    heuristic1 = heuristics[:, 1]\n",
    "    sum_heuristic1 = np.sum(heuristic1)\n",
    "    sum_heuristic0 = np.sum(heuristic0)\n",
    "    phi = (sum_heuristic1/total_count)\n",
    "    mu0 = (heuristic0[..., np.newaxis].T.dot(x)/sum_heuristic0).flatten()\n",
    "    mu1 = (heuristic1[..., np.newaxis].T.dot(x)/sum_heuristic1).flatten()\n",
    "    diff0 = x - mu0\n",
    "    sigma0 = diff0.T.dot(diff0 * heuristic0[..., np.newaxis]) / sum_heuristic0\n",
    "    diff1 = x - mu1\n",
    "    sigma1 = diff1.T.dot(diff1 * heuristic1[..., np.newaxis]) / sum_heuristic1\n",
    "    params = {'phi': phi, 'mu0': mu0, 'mu1': mu1, 'sigma0': sigma0, 'sigma1': sigma1}\n",
    "    return params\n",
    "\n",
    "\n",
    "def get_avg_log_likelihood(x, params):\n",
    "    loglikelihood, _ = e_step(x, params)\n",
    "    return np.mean(loglikelihood)\n",
    "\n",
    "\n",
    "def run_em(x, params):\n",
    "    avg_loglikelihoods = []\n",
    "    while True:\n",
    "        avg_loglikelihood = get_avg_log_likelihood(x, params)\n",
    "        avg_loglikelihoods.append(avg_loglikelihood)\n",
    "        if len(avg_loglikelihoods) > 2 and abs(avg_loglikelihoods[-1] - avg_loglikelihoods[-2]) < 0.0001:\n",
    "            break\n",
    "        params = m_step(x_unlabeled, params)\n",
    "    print(\"\\tphi: %s\\n\\tmu_0: %s\\n\\tmu_1: %s\\n\\tsigma_0: %s\\n\\tsigma_1: %s\"\n",
    "               % (params['phi'], params['mu0'], params['mu1'], params['sigma0'], params['sigma1']))\n",
    "    _, posterior = e_step(x_unlabeled, params)\n",
    "    forecasts = np.argmax(posterior, axis=1)\n",
    "    return forecasts, posterior, avg_loglikelihoods"
   ]
  },
  {
   "cell_type": "code",
   "execution_count": 4,
   "metadata": {},
   "outputs": [
    {
     "name": "stdout",
     "output_type": "stream",
     "text": [
      "unsupervised: \n",
      "\tphi: 0.597876849583813\n",
      "\tmu_0: [-1.06779962 -1.06693409]\n",
      "\tmu_1: [0.96345585 0.98442329]\n",
      "\tsigma_0: [[0.34381833 0.28383432]\n",
      " [0.28383432 0.70949224]]\n",
      "\tsigma_1: [[0.74145462 0.15706812]\n",
      " [0.15706812 0.31610609]]\n",
      "total steps:  32\n",
      "\n",
      "semi-supervised: \n",
      "\tphi: 0.5863498817945461\n",
      "\tmu_0: [-1.04546727 -1.02704636]\n",
      "\tmu_1: [0.98763329 0.99661118]\n",
      "\tsigma_0: [[0.36018609 0.30853357]\n",
      " [0.30853357 0.75384027]]\n",
      "\tsigma_1: [[0.7196797  0.1437903 ]\n",
      " [0.1437903  0.30853791]]\n",
      "total steps:  4\n",
      "\n",
      "scikit learn:\n",
      "\tphi: 0.59647894226803\n",
      "\tmu_0: [-1.06169376 -1.0563389 ]\n",
      "\tmu_1: [0.96408565 0.98206315]\n",
      "\tsigma_0: [[0.35027155 0.29629092]\n",
      " [0.29629092 0.73083581]]\n",
      "\tsigma_1: [[0.74510804 0.16156928]\n",
      " [0.16156928 0.32021029]]\n",
      "\n",
      "99.4% of forecasts matched.\n"
     ]
    },
    {
     "data": {
      "image/png": "[encoded data removed]",
      "text/plain": [
       "<Figure size 432x288 with 1 Axes>"
      ]
     },
     "metadata": {
      "needs_background": "light"
     },
     "output_type": "display_data"
    },
    {
     "data": {
      "image/png": "[encoded data removed]",
      "text/plain": [
       "<Figure size 432x288 with 1 Axes>"
      ]
     },
     "metadata": {
      "needs_background": "light"
     },
     "output_type": "display_data"
    },
    {
     "data": {
      "image/png": "[encoded data removed]",
      "text/plain": [
       "<Figure size 432x288 with 1 Axes>"
      ]
     },
     "metadata": {
      "needs_background": "light"
     },
     "output_type": "display_data"
    },
    {
     "data": {
      "image/png": "[encoded data removed]",
      "text/plain": [
       "<Figure size 432x288 with 1 Axes>"
      ]
     },
     "metadata": {
      "needs_background": "light"
     },
     "output_type": "display_data"
    }
   ],
   "source": [
    "if __name__ == '__main__':\n",
    "    data_unlabeled = pd.read_csv(\"../data/unlabeled.csv\")\n",
    "    #data_unlabeled = pd.read_csv(\"../data/labeled.csv\")\n",
    "    x_unlabeled = data_unlabeled[[\"x1\", \"x2\"]].values\n",
    "    \n",
    "    plt.figure(0)\n",
    "    plt.scatter(x_unlabeled[:, 0], x_unlabeled[:, 1], s=50);\n",
    "    plt.title(\"unlabeled data\")\n",
    "        \n",
    "\n",
    "    # Unsupervised learning\n",
    "    print(\"unsupervised: \")\n",
    "    random_params = initialize_random_params()\n",
    "    unsupervised_forecastsforecasts, unsupervised_posterior, unsupervised_loglikelihoods = run_em(x_unlabeled, random_params)\n",
    "    print(\"total steps: \", len(unsupervised_loglikelihoods))\n",
    "    plt.figure(1)\n",
    "    plt.plot(unsupervised_loglikelihoods)\n",
    "    plt.title(\"unsupervised log likelihoods\")\n",
    "    plt.savefig(\"unsupervised.png\")\n",
    "    \n",
    "\n",
    "    # Semi-supervised learning\n",
    "    data_labeled = pd.read_csv(\"../data/labeled.csv\")\n",
    "    x_labeled = data_labeled[[\"x1\", \"x2\"]].values\n",
    "    y_labeled = data_labeled[\"y\"].values\n",
    "    \n",
    "    plt.figure(2)\n",
    "    plt.scatter(x_labeled[:, 0], x_labeled[:, 1], c=y_labeled, s=50, cmap='viridis')\n",
    "    plt.title(\"labeled data\")\n",
    "    \n",
    "    print(\"\\nsemi-supervised: \")\n",
    "    learned_params = learn_params(x_labeled, y_labeled)\n",
    "    semisupervised_forecasts, semisupervised_posterior, semisupervised_loglikelihoods = run_em(x_unlabeled, learned_params)\n",
    "    print(\"total steps: \", len(semisupervised_loglikelihoods))\n",
    "    plt.figure(3)\n",
    "    plt.plot(semisupervised_loglikelihoods)\n",
    "    plt.title(\"semi-supervised log likelihoods\")\n",
    "    plt.savefig(\"semi-supervised.png\")\n",
    "    \n",
    "    # Compare the forecats with Scikit-learn API\n",
    "    learned_params = learn_params(x_labeled, y_labeled)\n",
    "    weights = [1 - learned_params[\"phi\"], learned_params[\"phi\"]]\n",
    "    means = [learned_params[\"mu0\"], learned_params[\"mu1\"]]\n",
    "    covariances = [learned_params[\"sigma0\"], learned_params[\"sigma1\"]]\n",
    "    sklearn_forecasts, posterior_sklearn = GMM_sklearn(x_unlabeled, weights, means, covariances)\n",
    "    \n",
    "    output_df = pd.DataFrame({'semisupervised_forecasts': semisupervised_forecasts,\n",
    "                              'semisupervised_posterior': semisupervised_posterior[:, 1],\n",
    "                              'sklearn_forecasts': sklearn_forecasts,\n",
    "                              'posterior_sklearn': posterior_sklearn})\n",
    "\n",
    "    print(\"\\n%s%% of forecasts matched.\" % (output_df[output_df[\"semisupervised_forecasts\"] == output_df[\"sklearn_forecasts\"]].shape[0] /output_df.shape[0] * 100))"
   ]
  },
  {
   "cell_type": "code",
   "execution_count": 76,
   "metadata": {},
   "outputs": [],
   "source": [
    "from datetime import datetime as dt\n",
    "import numpy as np\n",
    "from functools import reduce\n",
    "np.random.seed(1024)\n",
    "\n",
    "mu = np.array([1,2,6])\n",
    "Sigma = np.array([[118,62,44], [62,49,17], [44,17,21]])\n",
    "\n",
    "n = 400\n",
    "X_truth = np.random.multivariate_normal(mu, Sigma,n)"
   ]
  },
  {
   "cell_type": "code",
   "execution_count": 77,
   "metadata": {},
   "outputs": [
    {
     "data": {
      "text/plain": [
       "{'X': array([[-22.51504305, -11.21931542,  -0.31680441],\n",
       "        [ -4.13801604,  -3.3813311 ,   3.97850866],\n",
       "        [ -6.96117925,  -4.78845229,   1.21653198],\n",
       "        ...,\n",
       "        [ -8.53309711,  -4.17104975,   3.44262394],\n",
       "        [  1.37769221,   7.18668   ,   5.10726117],\n",
       "        [  7.61570646,   2.48587502,  11.05380599]]),\n",
       " 'C': array([[ True,  True,  True],\n",
       "        [ True,  True,  True],\n",
       "        [ True,  True,  True],\n",
       "        ...,\n",
       "        [ True,  True,  True],\n",
       "        [ True,  True,  True],\n",
       "        [ True,  True,  True]]),\n",
       " 'nan_rate': 0.1,\n",
       " 'nan_rate_actual': 0.10166666666666667}"
      ]
     },
     "execution_count": 77,
     "metadata": {},
     "output_type": "execute_result"
    }
   ],
   "source": [
    "def simulate_nan(X, nan_rate):\n",
    "    X_complete = X.copy()\n",
    "    nr,nc = X_complete.shape\n",
    "    C = np.random.random(nr *nc).reshape(nr, nc) > nan_rate\n",
    "    checker = np.where(sum(C.T) == 0)[0]\n",
    "    if len(checker) == 0:\n",
    "        X_complete[C == False] = np.nan\n",
    "    else:\n",
    "        for index in checker:\n",
    "            reviving_components = np.random.choice(nc, int(np.ceil(nc*np.random.random())), replace = False)\n",
    "            C[index,np.ix_(reviving_components)] = True\n",
    "            X_complete[C == False] = np.nan\n",
    "            result = {\n",
    "                        'X': X_complete,\n",
    "                        'C': C,\n",
    "                        'nan_rate': nan_rate,\n",
    "                        'nan_rate_actual': np.sum(C == False) / (nr *nc)}\n",
    "            return result\n",
    "        \n",
    "result = simulate_nan(X_truth, nan_rate = .10)\n",
    "X = result['X'].copy()\n",
    "(sum((np.isnan(X) == False).T) == 0).any() == False\n",
    "result['nan_rate_actual']\n",
    "\n",
    "result"
   ]
  },
  {
   "cell_type": "code",
   "execution_count": 78,
   "metadata": {},
   "outputs": [
    {
     "name": "stdout",
     "output_type": "stream",
     "text": [
      "[nan nan nan]\n"
     ]
    },
    {
     "data": {
      "text/plain": [
       "array([[nan, nan, nan],\n",
       "       [nan, nan, nan],\n",
       "       [nan, nan, nan]])"
      ]
     },
     "execution_count": 78,
     "metadata": {},
     "output_type": "execute_result"
    }
   ],
   "source": [
    "def impute_em(X, max_iter = 10000,eps = 1e-08):\n",
    "    nr,nc = X.shape\n",
    "    C = np.isnan(X) == False\n",
    "\n",
    "    one_to_nc = np.arange(1,nc + 1, step = 1)\n",
    "    M = one_to_nc * (C == False) -1\n",
    "    O = one_to_nc * C -1\n",
    "\n",
    "    Mu = np.nanmean(X, axis = 0)\n",
    "    observed_rows = np.where(np.isnan(sum(X.T)) == False)[0]\n",
    "    S = np.cov(X[observed_rows, ].T)\n",
    "    if np.isnan(S).any():\n",
    "        S = np.diag(np.nanvar(X,axis = 0))\n",
    "\n",
    "    Mu_tilde, S_tilde = {}, {}\n",
    "    X_tilde = X.copy()\n",
    "    no_conv = True\n",
    "    iteration = 0\n",
    "\n",
    "    while no_conv and iteration < max_iter:\n",
    "        for i in range(nr):\n",
    "            S_tilde[i] = np.zeros(nc**2).reshape(nc,nc)\n",
    "            if set(O[i, ]) != set(one_to_nc -1):\n",
    "                M_i, O_i = M[i, ][M[i, ] != -1], O[i, ][O[i, ] != -1]\n",
    "                S_MM = S[np.ix_(M_i, M_i)]\n",
    "                S_MO = S[np.ix_(M_i, O_i)]\n",
    "                S_OM = S_MO.T\n",
    "                S_OO = S[np.ix_(O_i, O_i)]\n",
    "                Mu_tilde[i] = Mu[np.ix_(M_i)] + S_MO @ np.linalg.inv(S_OO) @ (X_tilde[i, O_i] - Mu[np.ix_(O_i)])\n",
    "                X_tilde[i, M_i] = Mu_tilde[i]\n",
    "                S_MM_O = S_MM - S_MO @ np.linalg.inv(S_OO) @ S_OM\n",
    "                S_tilde[i][np.ix_(M_i, M_i)] = S_MM_O\n",
    "            Mu_new = np.mean(X_tilde, axis = 0)\n",
    "            S_new = np.cov(X_tilde.T,bias = 1) +\\\n",
    "                reduce(np.add, S_tilde.values()) / nr\n",
    "            no_conv =\\\n",
    "                np.linalg.norm(Mu- Mu_new) >= eps or\\\n",
    "                np.linalg.norm(S - S_new, ord = 1) >= eps\n",
    "            Mu = Mu_new\n",
    "            S = S_new\n",
    "            iteration += 1\n",
    "        result = {\n",
    "                    'mu': Mu,\n",
    "                    'Sigma': S,\n",
    "                    'X_imputed': X_tilde,\n",
    "                    'C': C,\n",
    "                    'iteration': iteration\n",
    "                    }\n",
    "    return result\n",
    "\n",
    "start = dt.now()\n",
    "result_imputed = impute_em(X)\n",
    "end = dt.now()\n",
    "\n",
    "print(result_imputed['mu'])\n",
    "result_imputed['Sigma']\n"
   ]
  },
  {
   "cell_type": "code",
   "execution_count": 79,
   "metadata": {},
   "outputs": [
    {
     "name": "stdout",
     "output_type": "stream",
     "text": [
      "[1.65310237 1.92223237 6.38654956]\n"
     ]
    },
    {
     "data": {
      "text/plain": [
       "array([[117.47706143,  65.50711011,  43.03976256],\n",
       "       [ 65.50711011,  52.66150823,  18.17934048],\n",
       "       [ 43.03976256,  18.17934048,  20.24549545]])"
      ]
     },
     "execution_count": 79,
     "metadata": {},
     "output_type": "execute_result"
    }
   ],
   "source": [
    "def impute_em(X, max_iter = 3000, eps = 1e-08):\n",
    "    '''(np.array, int, number) -> {str: np.array or int}\n",
    "    \n",
    "    Precondition: max_iter >= 1 and eps > 0\n",
    "    \n",
    "    Return the dictionary with five keys where:\n",
    "    - Key 'mu' stores the mean estimate of the imputed data.\n",
    "    - Key 'Sigma' stores the variance estimate of the imputed data.\n",
    "    - Key 'X_imputed' stores the imputed data that is mutated from X using \n",
    "      the EM algorithm.\n",
    "    - Key 'C' stores the np.array that specifies the original missing entries\n",
    "      of X.\n",
    "    - Key 'iteration' stores the number of iteration used to compute\n",
    "      'X_imputed' based on max_iter and eps specified.\n",
    "    '''\n",
    "    \n",
    "    nr, nc = X.shape\n",
    "    C = np.isnan(X) == False\n",
    "    \n",
    "    # Collect M_i and O_i's\n",
    "    one_to_nc = np.arange(1, nc + 1, step = 1)\n",
    "    M = one_to_nc * (C == False) - 1\n",
    "    O = one_to_nc * C - 1\n",
    "    \n",
    "    # Generate Mu_0 and Sigma_0\n",
    "    Mu = np.nanmean(X, axis = 0)\n",
    "    observed_rows = np.where(np.isnan(sum(X.T)) == False)[0]\n",
    "    S = np.cov(X[observed_rows, ].T)\n",
    "    if np.isnan(S).any():\n",
    "        S = np.diag(np.nanvar(X, axis = 0))\n",
    "    \n",
    "    # Start updating\n",
    "    Mu_tilde, S_tilde = {}, {}\n",
    "    X_tilde = X.copy()\n",
    "    no_conv = True\n",
    "    iteration = 0\n",
    "    while no_conv and iteration < max_iter:\n",
    "        for i in range(nr):\n",
    "            S_tilde[i] = np.zeros(nc ** 2).reshape(nc, nc)\n",
    "            if set(O[i, ]) != set(one_to_nc - 1): # missing component exists\n",
    "                M_i, O_i = M[i, ][M[i, ] != -1], O[i, ][O[i, ] != -1]\n",
    "                S_MM = S[np.ix_(M_i, M_i)]\n",
    "                S_MO = S[np.ix_(M_i, O_i)]\n",
    "                S_OM = S_MO.T\n",
    "                S_OO = S[np.ix_(O_i, O_i)]\n",
    "                Mu_tilde[i] = Mu[np.ix_(M_i)] +\\\n",
    "                    S_MO @ np.linalg.inv(S_OO) @\\\n",
    "                    (X_tilde[i, O_i] - Mu[np.ix_(O_i)])\n",
    "                X_tilde[i, M_i] = Mu_tilde[i]\n",
    "                S_MM_O = S_MM - S_MO @ np.linalg.inv(S_OO) @ S_OM\n",
    "                S_tilde[i][np.ix_(M_i, M_i)] = S_MM_O\n",
    "        Mu_new = np.mean(X_tilde, axis = 0)\n",
    "        S_new = np.cov(X_tilde.T, bias = 1) +\\\n",
    "            reduce(np.add, S_tilde.values()) / nr\n",
    "        no_conv =\\\n",
    "            np.linalg.norm(Mu - Mu_new) >= eps or\\\n",
    "            np.linalg.norm(S - S_new, ord = 2) >= eps\n",
    "        Mu = Mu_new\n",
    "        S = S_new\n",
    "        iteration += 1\n",
    "    \n",
    "    result = {\n",
    "        'mu': Mu,\n",
    "        'Sigma': S,\n",
    "        'X_imputed': X_tilde,\n",
    "        'C': C,\n",
    "        'iteration': iteration\n",
    "    }\n",
    "    \n",
    "    return result\n",
    "start = dt.now()\n",
    "result_imputed = impute_em(X)\n",
    "end = dt.now()\n",
    "\n",
    "print(result_imputed['mu'])\n",
    "result_imputed['Sigma']\n"
   ]
  },
  {
   "cell_type": "code",
   "execution_count": 81,
   "metadata": {},
   "outputs": [
    {
     "data": {
      "text/plain": [
       "array([[-22.51504305, -11.21931542,  -0.31680441],\n",
       "       [ -4.13801604,  -3.3813311 ,   3.97850866],\n",
       "       [ -6.96117925,  -4.78845229,   1.21653198],\n",
       "       ...,\n",
       "       [ -8.53309711,  -4.17104975,   3.44262394],\n",
       "       [  1.37769221,   7.18668   ,   5.10726117],\n",
       "       [  7.61570646,   2.48587502,  11.05380599]])"
      ]
     },
     "execution_count": 81,
     "metadata": {},
     "output_type": "execute_result"
    }
   ],
   "source": [
    "X"
   ]
  },
  {
   "cell_type": "code",
   "execution_count": 83,
   "metadata": {},
   "outputs": [
    {
     "data": {
      "text/plain": [
       "array([], dtype=float64)"
      ]
     },
     "execution_count": 83,
     "metadata": {},
     "output_type": "execute_result"
    }
   ],
   "source": [
    "df = X - result_imputed['X_imputed']\n",
    "df[df > 0]"
   ]
  }
 ],
 "metadata": {
  "kernelspec": {
   "display_name": "Python 3",
   "language": "python",
   "name": "python3"
  },
  "language_info": {
   "codemirror_mode": {
    "name": "ipython",
    "version": 3
   },
   "file_extension": ".py",
   "mimetype": "text/x-python",
   "name": "python",
   "nbconvert_exporter": "python",
   "pygments_lexer": "ipython3",
   "version": "3.9.2"
  },
  "orig_nbformat": 4,
  "vscode": {
   "interpreter": {
    "hash": "c6a2dc670f3436433c0efae6fb324965c1072d8aef0b90287abce79ee9328779"
   }
  }
 },
 "nbformat": 4,
 "nbformat_minor": 2
}
